{
  "nbformat": 4,
  "nbformat_minor": 0,
  "metadata": {
    "colab": {
      "provenance": [],
      "machine_shape": "hm",
      "gpuType": "T4"
    },
    "kernelspec": {
      "name": "python3",
      "display_name": "Python 3"
    },
    "language_info": {
      "name": "python"
    },
    "accelerator": "GPU"
  },
  "cells": [
    {
      "cell_type": "markdown",
      "source": [
        "<a href=\"https://colab.research.google.com/github/MaxWesterhout/Sistemas-de-Diagnostico-y-Tratamiento-I/blob/main/8_RNN_sol_2025.ipynb\" target=\"_parent\"><img src=\"https://colab.research.google.com/assets/colab-badge.svg\" alt=\"Open In Colab\"/></a>"
      ],
      "metadata": {
        "id": "dV2ElRrBErEU"
      }
    },
    {
      "cell_type": "markdown",
      "source": [
        "# Redes Recurrentes (RNN)\n",
        "\n",
        "Continuando con el estudio de las redes profundas, las redes recurrentes poseen la caracteristicas de guardar la información previa y entregarsela a la siguiente capa, con el fin de mantener la información secuencial de los datos.\n",
        "\n",
        "![texto del vínculo](https://www.simplilearn.com/ice9/free_resources_article_thumb/Fully_connected_Recurrent_Neural_Network.gif)"
      ],
      "metadata": {
        "id": "y7HY7R2hgKJw"
      }
    },
    {
      "cell_type": "code",
      "source": [
        "!pip install -q nltk"
      ],
      "metadata": {
        "id": "OlUxHTHbjZ4W"
      },
      "execution_count": 1,
      "outputs": []
    },
    {
      "cell_type": "code",
      "execution_count": 2,
      "metadata": {
        "colab": {
          "base_uri": "https://localhost:8080/"
        },
        "id": "MDlao31OgHGX",
        "outputId": "9c836f07-ef08-4bc9-c4f4-e727525c1580"
      },
      "outputs": [
        {
          "output_type": "stream",
          "name": "stderr",
          "text": [
            "[nltk_data] Downloading package stopwords to /root/nltk_data...\n",
            "[nltk_data]   Unzipping corpora/stopwords.zip.\n"
          ]
        }
      ],
      "source": [
        "import numpy as np\n",
        "import matplotlib.pyplot as plt\n",
        "import pandas as pd\n",
        "import seaborn as sns\n",
        "\n",
        "import re\n",
        "from sklearn.preprocessing import LabelEncoder\n",
        "\n",
        "import tensorflow as tf\n",
        "from tensorflow.keras.preprocessing.text import Tokenizer\n",
        "from tensorflow.keras.preprocessing.sequence import pad_sequences\n",
        "\n",
        "#Stopwords\n",
        "import nltk\n",
        "nltk.download('stopwords')\n",
        "from nltk.corpus import stopwords"
      ]
    },
    {
      "cell_type": "markdown",
      "source": [
        "## Symptom2Disease ([Link](https://www.kaggle.com/datasets/niyarrbarman/symptom2disease))\n",
        "\n",
        "\n"
      ],
      "metadata": {
        "id": "j5FhJssOkte7"
      }
    },
    {
      "cell_type": "code",
      "source": [
        "dat = pd.read_csv('https://raw.githubusercontent.com/MaxWesterhout/Sistemas-de-Diagnostico-y-Tratamiento-I/refs/heads/main/data/Symptom2DiseaseClase8.csv')\n",
        "dat.head()"
      ],
      "metadata": {
        "colab": {
          "base_uri": "https://localhost:8080/",
          "height": 206
        },
        "id": "OtXg6uiFkIIg",
        "outputId": "9ef7b7ca-3797-4bc6-ea31-d439e1a036a0"
      },
      "execution_count": 5,
      "outputs": [
        {
          "output_type": "execute_result",
          "data": {
            "text/plain": [
              "   Unnamed: 0      label                                               text\n",
              "0           0  Psoriasis  I have been experiencing a skin rash on my arm...\n",
              "1           1  Psoriasis  My skin has been peeling, especially on my kne...\n",
              "2           2  Psoriasis  I have been experiencing joint pain in my fing...\n",
              "3           3  Psoriasis  There is a silver like dusting on my skin, esp...\n",
              "4           4  Psoriasis  My nails have small dents or pits in them, and..."
            ],
            "text/html": [
              "\n",
              "  <div id=\"df-5cf81571-8dbe-4b64-913d-cebe1a9ad171\" class=\"colab-df-container\">\n",
              "    <div>\n",
              "<style scoped>\n",
              "    .dataframe tbody tr th:only-of-type {\n",
              "        vertical-align: middle;\n",
              "    }\n",
              "\n",
              "    .dataframe tbody tr th {\n",
              "        vertical-align: top;\n",
              "    }\n",
              "\n",
              "    .dataframe thead th {\n",
              "        text-align: right;\n",
              "    }\n",
              "</style>\n",
              "<table border=\"1\" class=\"dataframe\">\n",
              "  <thead>\n",
              "    <tr style=\"text-align: right;\">\n",
              "      <th></th>\n",
              "      <th>Unnamed: 0</th>\n",
              "      <th>label</th>\n",
              "      <th>text</th>\n",
              "    </tr>\n",
              "  </thead>\n",
              "  <tbody>\n",
              "    <tr>\n",
              "      <th>0</th>\n",
              "      <td>0</td>\n",
              "      <td>Psoriasis</td>\n",
              "      <td>I have been experiencing a skin rash on my arm...</td>\n",
              "    </tr>\n",
              "    <tr>\n",
              "      <th>1</th>\n",
              "      <td>1</td>\n",
              "      <td>Psoriasis</td>\n",
              "      <td>My skin has been peeling, especially on my kne...</td>\n",
              "    </tr>\n",
              "    <tr>\n",
              "      <th>2</th>\n",
              "      <td>2</td>\n",
              "      <td>Psoriasis</td>\n",
              "      <td>I have been experiencing joint pain in my fing...</td>\n",
              "    </tr>\n",
              "    <tr>\n",
              "      <th>3</th>\n",
              "      <td>3</td>\n",
              "      <td>Psoriasis</td>\n",
              "      <td>There is a silver like dusting on my skin, esp...</td>\n",
              "    </tr>\n",
              "    <tr>\n",
              "      <th>4</th>\n",
              "      <td>4</td>\n",
              "      <td>Psoriasis</td>\n",
              "      <td>My nails have small dents or pits in them, and...</td>\n",
              "    </tr>\n",
              "  </tbody>\n",
              "</table>\n",
              "</div>\n",
              "    <div class=\"colab-df-buttons\">\n",
              "\n",
              "  <div class=\"colab-df-container\">\n",
              "    <button class=\"colab-df-convert\" onclick=\"convertToInteractive('df-5cf81571-8dbe-4b64-913d-cebe1a9ad171')\"\n",
              "            title=\"Convert this dataframe to an interactive table.\"\n",
              "            style=\"display:none;\">\n",
              "\n",
              "  <svg xmlns=\"http://www.w3.org/2000/svg\" height=\"24px\" viewBox=\"0 -960 960 960\">\n",
              "    <path d=\"M120-120v-720h720v720H120Zm60-500h600v-160H180v160Zm220 220h160v-160H400v160Zm0 220h160v-160H400v160ZM180-400h160v-160H180v160Zm440 0h160v-160H620v160ZM180-180h160v-160H180v160Zm440 0h160v-160H620v160Z\"/>\n",
              "  </svg>\n",
              "    </button>\n",
              "\n",
              "  <style>\n",
              "    .colab-df-container {\n",
              "      display:flex;\n",
              "      gap: 12px;\n",
              "    }\n",
              "\n",
              "    .colab-df-convert {\n",
              "      background-color: #E8F0FE;\n",
              "      border: none;\n",
              "      border-radius: 50%;\n",
              "      cursor: pointer;\n",
              "      display: none;\n",
              "      fill: #1967D2;\n",
              "      height: 32px;\n",
              "      padding: 0 0 0 0;\n",
              "      width: 32px;\n",
              "    }\n",
              "\n",
              "    .colab-df-convert:hover {\n",
              "      background-color: #E2EBFA;\n",
              "      box-shadow: 0px 1px 2px rgba(60, 64, 67, 0.3), 0px 1px 3px 1px rgba(60, 64, 67, 0.15);\n",
              "      fill: #174EA6;\n",
              "    }\n",
              "\n",
              "    .colab-df-buttons div {\n",
              "      margin-bottom: 4px;\n",
              "    }\n",
              "\n",
              "    [theme=dark] .colab-df-convert {\n",
              "      background-color: #3B4455;\n",
              "      fill: #D2E3FC;\n",
              "    }\n",
              "\n",
              "    [theme=dark] .colab-df-convert:hover {\n",
              "      background-color: #434B5C;\n",
              "      box-shadow: 0px 1px 3px 1px rgba(0, 0, 0, 0.15);\n",
              "      filter: drop-shadow(0px 1px 2px rgba(0, 0, 0, 0.3));\n",
              "      fill: #FFFFFF;\n",
              "    }\n",
              "  </style>\n",
              "\n",
              "    <script>\n",
              "      const buttonEl =\n",
              "        document.querySelector('#df-5cf81571-8dbe-4b64-913d-cebe1a9ad171 button.colab-df-convert');\n",
              "      buttonEl.style.display =\n",
              "        google.colab.kernel.accessAllowed ? 'block' : 'none';\n",
              "\n",
              "      async function convertToInteractive(key) {\n",
              "        const element = document.querySelector('#df-5cf81571-8dbe-4b64-913d-cebe1a9ad171');\n",
              "        const dataTable =\n",
              "          await google.colab.kernel.invokeFunction('convertToInteractive',\n",
              "                                                    [key], {});\n",
              "        if (!dataTable) return;\n",
              "\n",
              "        const docLinkHtml = 'Like what you see? Visit the ' +\n",
              "          '<a target=\"_blank\" href=https://colab.research.google.com/notebooks/data_table.ipynb>data table notebook</a>'\n",
              "          + ' to learn more about interactive tables.';\n",
              "        element.innerHTML = '';\n",
              "        dataTable['output_type'] = 'display_data';\n",
              "        await google.colab.output.renderOutput(dataTable, element);\n",
              "        const docLink = document.createElement('div');\n",
              "        docLink.innerHTML = docLinkHtml;\n",
              "        element.appendChild(docLink);\n",
              "      }\n",
              "    </script>\n",
              "  </div>\n",
              "\n",
              "\n",
              "    <div id=\"df-22484812-58a3-452d-8b99-a84f65970dbf\">\n",
              "      <button class=\"colab-df-quickchart\" onclick=\"quickchart('df-22484812-58a3-452d-8b99-a84f65970dbf')\"\n",
              "                title=\"Suggest charts\"\n",
              "                style=\"display:none;\">\n",
              "\n",
              "<svg xmlns=\"http://www.w3.org/2000/svg\" height=\"24px\"viewBox=\"0 0 24 24\"\n",
              "     width=\"24px\">\n",
              "    <g>\n",
              "        <path d=\"M19 3H5c-1.1 0-2 .9-2 2v14c0 1.1.9 2 2 2h14c1.1 0 2-.9 2-2V5c0-1.1-.9-2-2-2zM9 17H7v-7h2v7zm4 0h-2V7h2v10zm4 0h-2v-4h2v4z\"/>\n",
              "    </g>\n",
              "</svg>\n",
              "      </button>\n",
              "\n",
              "<style>\n",
              "  .colab-df-quickchart {\n",
              "      --bg-color: #E8F0FE;\n",
              "      --fill-color: #1967D2;\n",
              "      --hover-bg-color: #E2EBFA;\n",
              "      --hover-fill-color: #174EA6;\n",
              "      --disabled-fill-color: #AAA;\n",
              "      --disabled-bg-color: #DDD;\n",
              "  }\n",
              "\n",
              "  [theme=dark] .colab-df-quickchart {\n",
              "      --bg-color: #3B4455;\n",
              "      --fill-color: #D2E3FC;\n",
              "      --hover-bg-color: #434B5C;\n",
              "      --hover-fill-color: #FFFFFF;\n",
              "      --disabled-bg-color: #3B4455;\n",
              "      --disabled-fill-color: #666;\n",
              "  }\n",
              "\n",
              "  .colab-df-quickchart {\n",
              "    background-color: var(--bg-color);\n",
              "    border: none;\n",
              "    border-radius: 50%;\n",
              "    cursor: pointer;\n",
              "    display: none;\n",
              "    fill: var(--fill-color);\n",
              "    height: 32px;\n",
              "    padding: 0;\n",
              "    width: 32px;\n",
              "  }\n",
              "\n",
              "  .colab-df-quickchart:hover {\n",
              "    background-color: var(--hover-bg-color);\n",
              "    box-shadow: 0 1px 2px rgba(60, 64, 67, 0.3), 0 1px 3px 1px rgba(60, 64, 67, 0.15);\n",
              "    fill: var(--button-hover-fill-color);\n",
              "  }\n",
              "\n",
              "  .colab-df-quickchart-complete:disabled,\n",
              "  .colab-df-quickchart-complete:disabled:hover {\n",
              "    background-color: var(--disabled-bg-color);\n",
              "    fill: var(--disabled-fill-color);\n",
              "    box-shadow: none;\n",
              "  }\n",
              "\n",
              "  .colab-df-spinner {\n",
              "    border: 2px solid var(--fill-color);\n",
              "    border-color: transparent;\n",
              "    border-bottom-color: var(--fill-color);\n",
              "    animation:\n",
              "      spin 1s steps(1) infinite;\n",
              "  }\n",
              "\n",
              "  @keyframes spin {\n",
              "    0% {\n",
              "      border-color: transparent;\n",
              "      border-bottom-color: var(--fill-color);\n",
              "      border-left-color: var(--fill-color);\n",
              "    }\n",
              "    20% {\n",
              "      border-color: transparent;\n",
              "      border-left-color: var(--fill-color);\n",
              "      border-top-color: var(--fill-color);\n",
              "    }\n",
              "    30% {\n",
              "      border-color: transparent;\n",
              "      border-left-color: var(--fill-color);\n",
              "      border-top-color: var(--fill-color);\n",
              "      border-right-color: var(--fill-color);\n",
              "    }\n",
              "    40% {\n",
              "      border-color: transparent;\n",
              "      border-right-color: var(--fill-color);\n",
              "      border-top-color: var(--fill-color);\n",
              "    }\n",
              "    60% {\n",
              "      border-color: transparent;\n",
              "      border-right-color: var(--fill-color);\n",
              "    }\n",
              "    80% {\n",
              "      border-color: transparent;\n",
              "      border-right-color: var(--fill-color);\n",
              "      border-bottom-color: var(--fill-color);\n",
              "    }\n",
              "    90% {\n",
              "      border-color: transparent;\n",
              "      border-bottom-color: var(--fill-color);\n",
              "    }\n",
              "  }\n",
              "</style>\n",
              "\n",
              "      <script>\n",
              "        async function quickchart(key) {\n",
              "          const quickchartButtonEl =\n",
              "            document.querySelector('#' + key + ' button');\n",
              "          quickchartButtonEl.disabled = true;  // To prevent multiple clicks.\n",
              "          quickchartButtonEl.classList.add('colab-df-spinner');\n",
              "          try {\n",
              "            const charts = await google.colab.kernel.invokeFunction(\n",
              "                'suggestCharts', [key], {});\n",
              "          } catch (error) {\n",
              "            console.error('Error during call to suggestCharts:', error);\n",
              "          }\n",
              "          quickchartButtonEl.classList.remove('colab-df-spinner');\n",
              "          quickchartButtonEl.classList.add('colab-df-quickchart-complete');\n",
              "        }\n",
              "        (() => {\n",
              "          let quickchartButtonEl =\n",
              "            document.querySelector('#df-22484812-58a3-452d-8b99-a84f65970dbf button');\n",
              "          quickchartButtonEl.style.display =\n",
              "            google.colab.kernel.accessAllowed ? 'block' : 'none';\n",
              "        })();\n",
              "      </script>\n",
              "    </div>\n",
              "\n",
              "    </div>\n",
              "  </div>\n"
            ],
            "application/vnd.google.colaboratory.intrinsic+json": {
              "type": "dataframe",
              "variable_name": "dat",
              "summary": "{\n  \"name\": \"dat\",\n  \"rows\": 1200,\n  \"fields\": [\n    {\n      \"column\": \"Unnamed: 0\",\n      \"properties\": {\n        \"dtype\": \"number\",\n        \"std\": 86,\n        \"min\": 0,\n        \"max\": 299,\n        \"num_unique_values\": 300,\n        \"samples\": [\n          203,\n          266,\n          152\n        ],\n        \"semantic_type\": \"\",\n        \"description\": \"\"\n      }\n    },\n    {\n      \"column\": \"label\",\n      \"properties\": {\n        \"dtype\": \"category\",\n        \"num_unique_values\": 24,\n        \"samples\": [\n          \"Pneumonia\",\n          \"Jaundice\",\n          \"Psoriasis\"\n        ],\n        \"semantic_type\": \"\",\n        \"description\": \"\"\n      }\n    },\n    {\n      \"column\": \"text\",\n      \"properties\": {\n        \"dtype\": \"string\",\n        \"num_unique_values\": 1153,\n        \"samples\": [\n          \"I've had back pain, a cough that won't go away, and limb weakness. I've been experiencing neck pain, instability, and balance concerns.\",\n          \"Recently, I've been having problems using the restroom. Going is incredibly difficult, and doing so hurts. In addition, I've been experiencing some butt soreness, and my stools have been bloody. My anus has also been quite itching and aggravated.\",\n          \"I've been exhausted and experiencing nausea and itching. In addition, I've lost weight and have a temperature. My urine is dark, and my skin has turned yellow. Additionally, I've been having stomach pain.\"\n        ],\n        \"semantic_type\": \"\",\n        \"description\": \"\"\n      }\n    }\n  ]\n}"
            }
          },
          "metadata": {},
          "execution_count": 5
        }
      ]
    },
    {
      "cell_type": "code",
      "source": [
        "#24 Labels\n",
        "dat['label'].value_counts()"
      ],
      "metadata": {
        "colab": {
          "base_uri": "https://localhost:8080/",
          "height": 868
        },
        "id": "TRBE9dS0kQJf",
        "outputId": "17cd9248-9580-4c4e-903f-1dee1d9d7ee6"
      },
      "execution_count": 6,
      "outputs": [
        {
          "output_type": "execute_result",
          "data": {
            "text/plain": [
              "label\n",
              "Psoriasis                          50\n",
              "Varicose Veins                     50\n",
              "Typhoid                            50\n",
              "Chicken pox                        50\n",
              "Impetigo                           50\n",
              "Dengue                             50\n",
              "Fungal infection                   50\n",
              "Common Cold                        50\n",
              "Pneumonia                          50\n",
              "Dimorphic Hemorrhoids              50\n",
              "Arthritis                          50\n",
              "Acne                               50\n",
              "Bronchial Asthma                   50\n",
              "Hypertension                       50\n",
              "Migraine                           50\n",
              "Cervical spondylosis               50\n",
              "Jaundice                           50\n",
              "Malaria                            50\n",
              "urinary tract infection            50\n",
              "allergy                            50\n",
              "gastroesophageal reflux disease    50\n",
              "drug reaction                      50\n",
              "peptic ulcer disease               50\n",
              "diabetes                           50\n",
              "Name: count, dtype: int64"
            ],
            "text/html": [
              "<div>\n",
              "<style scoped>\n",
              "    .dataframe tbody tr th:only-of-type {\n",
              "        vertical-align: middle;\n",
              "    }\n",
              "\n",
              "    .dataframe tbody tr th {\n",
              "        vertical-align: top;\n",
              "    }\n",
              "\n",
              "    .dataframe thead th {\n",
              "        text-align: right;\n",
              "    }\n",
              "</style>\n",
              "<table border=\"1\" class=\"dataframe\">\n",
              "  <thead>\n",
              "    <tr style=\"text-align: right;\">\n",
              "      <th></th>\n",
              "      <th>count</th>\n",
              "    </tr>\n",
              "    <tr>\n",
              "      <th>label</th>\n",
              "      <th></th>\n",
              "    </tr>\n",
              "  </thead>\n",
              "  <tbody>\n",
              "    <tr>\n",
              "      <th>Psoriasis</th>\n",
              "      <td>50</td>\n",
              "    </tr>\n",
              "    <tr>\n",
              "      <th>Varicose Veins</th>\n",
              "      <td>50</td>\n",
              "    </tr>\n",
              "    <tr>\n",
              "      <th>Typhoid</th>\n",
              "      <td>50</td>\n",
              "    </tr>\n",
              "    <tr>\n",
              "      <th>Chicken pox</th>\n",
              "      <td>50</td>\n",
              "    </tr>\n",
              "    <tr>\n",
              "      <th>Impetigo</th>\n",
              "      <td>50</td>\n",
              "    </tr>\n",
              "    <tr>\n",
              "      <th>Dengue</th>\n",
              "      <td>50</td>\n",
              "    </tr>\n",
              "    <tr>\n",
              "      <th>Fungal infection</th>\n",
              "      <td>50</td>\n",
              "    </tr>\n",
              "    <tr>\n",
              "      <th>Common Cold</th>\n",
              "      <td>50</td>\n",
              "    </tr>\n",
              "    <tr>\n",
              "      <th>Pneumonia</th>\n",
              "      <td>50</td>\n",
              "    </tr>\n",
              "    <tr>\n",
              "      <th>Dimorphic Hemorrhoids</th>\n",
              "      <td>50</td>\n",
              "    </tr>\n",
              "    <tr>\n",
              "      <th>Arthritis</th>\n",
              "      <td>50</td>\n",
              "    </tr>\n",
              "    <tr>\n",
              "      <th>Acne</th>\n",
              "      <td>50</td>\n",
              "    </tr>\n",
              "    <tr>\n",
              "      <th>Bronchial Asthma</th>\n",
              "      <td>50</td>\n",
              "    </tr>\n",
              "    <tr>\n",
              "      <th>Hypertension</th>\n",
              "      <td>50</td>\n",
              "    </tr>\n",
              "    <tr>\n",
              "      <th>Migraine</th>\n",
              "      <td>50</td>\n",
              "    </tr>\n",
              "    <tr>\n",
              "      <th>Cervical spondylosis</th>\n",
              "      <td>50</td>\n",
              "    </tr>\n",
              "    <tr>\n",
              "      <th>Jaundice</th>\n",
              "      <td>50</td>\n",
              "    </tr>\n",
              "    <tr>\n",
              "      <th>Malaria</th>\n",
              "      <td>50</td>\n",
              "    </tr>\n",
              "    <tr>\n",
              "      <th>urinary tract infection</th>\n",
              "      <td>50</td>\n",
              "    </tr>\n",
              "    <tr>\n",
              "      <th>allergy</th>\n",
              "      <td>50</td>\n",
              "    </tr>\n",
              "    <tr>\n",
              "      <th>gastroesophageal reflux disease</th>\n",
              "      <td>50</td>\n",
              "    </tr>\n",
              "    <tr>\n",
              "      <th>drug reaction</th>\n",
              "      <td>50</td>\n",
              "    </tr>\n",
              "    <tr>\n",
              "      <th>peptic ulcer disease</th>\n",
              "      <td>50</td>\n",
              "    </tr>\n",
              "    <tr>\n",
              "      <th>diabetes</th>\n",
              "      <td>50</td>\n",
              "    </tr>\n",
              "  </tbody>\n",
              "</table>\n",
              "</div><br><label><b>dtype:</b> int64</label>"
            ]
          },
          "metadata": {},
          "execution_count": 6
        }
      ]
    },
    {
      "cell_type": "code",
      "source": [
        "dat['text'][0]"
      ],
      "metadata": {
        "colab": {
          "base_uri": "https://localhost:8080/",
          "height": 36
        },
        "id": "zZmVRKPmkiUZ",
        "outputId": "a11fbce5-9887-43a7-849c-e9e8714cf22b"
      },
      "execution_count": 7,
      "outputs": [
        {
          "output_type": "execute_result",
          "data": {
            "text/plain": [
              "'I have been experiencing a skin rash on my arms, legs, and torso for the past few weeks. It is red, itchy, and covered in dry, scaly patches.'"
            ],
            "application/vnd.google.colaboratory.intrinsic+json": {
              "type": "string"
            }
          },
          "metadata": {},
          "execution_count": 7
        }
      ]
    },
    {
      "cell_type": "markdown",
      "source": [
        "## Preprocesamiento\n",
        "\n",
        "codigo de preprocesamiento modificado desde [kaggle](https://www.kaggle.com/code/yannansu/symptom2disease-with-neural-networks-92-accuracy#Build-and-train-model)"
      ],
      "metadata": {
        "id": "PvsiNTNGlKly"
      }
    },
    {
      "cell_type": "markdown",
      "source": [
        "### Label Encoder"
      ],
      "metadata": {
        "id": "fHWhS1Cllzs8"
      }
    },
    {
      "cell_type": "code",
      "source": [
        "# Convierte nuestras etiquetas en numeros\n",
        "label_encoder = LabelEncoder()\n",
        "label_encoder.fit(dat['label'])\n",
        "label_sequences = label_encoder.transform(dat['label'])\n",
        "\n",
        "dat['label_encoded'] = label_sequences\n",
        "dat['label_encoded']"
      ],
      "metadata": {
        "id": "6SVYFLPslQTJ",
        "colab": {
          "base_uri": "https://localhost:8080/",
          "height": 458
        },
        "outputId": "65657685-c83c-4d45-810c-842b0b3b6171"
      },
      "execution_count": 8,
      "outputs": [
        {
          "output_type": "execute_result",
          "data": {
            "text/plain": [
              "0       15\n",
              "1       15\n",
              "2       15\n",
              "3       15\n",
              "4       15\n",
              "        ..\n",
              "1195    19\n",
              "1196    19\n",
              "1197    19\n",
              "1198    19\n",
              "1199    19\n",
              "Name: label_encoded, Length: 1200, dtype: int64"
            ],
            "text/html": [
              "<div>\n",
              "<style scoped>\n",
              "    .dataframe tbody tr th:only-of-type {\n",
              "        vertical-align: middle;\n",
              "    }\n",
              "\n",
              "    .dataframe tbody tr th {\n",
              "        vertical-align: top;\n",
              "    }\n",
              "\n",
              "    .dataframe thead th {\n",
              "        text-align: right;\n",
              "    }\n",
              "</style>\n",
              "<table border=\"1\" class=\"dataframe\">\n",
              "  <thead>\n",
              "    <tr style=\"text-align: right;\">\n",
              "      <th></th>\n",
              "      <th>label_encoded</th>\n",
              "    </tr>\n",
              "  </thead>\n",
              "  <tbody>\n",
              "    <tr>\n",
              "      <th>0</th>\n",
              "      <td>15</td>\n",
              "    </tr>\n",
              "    <tr>\n",
              "      <th>1</th>\n",
              "      <td>15</td>\n",
              "    </tr>\n",
              "    <tr>\n",
              "      <th>2</th>\n",
              "      <td>15</td>\n",
              "    </tr>\n",
              "    <tr>\n",
              "      <th>3</th>\n",
              "      <td>15</td>\n",
              "    </tr>\n",
              "    <tr>\n",
              "      <th>4</th>\n",
              "      <td>15</td>\n",
              "    </tr>\n",
              "    <tr>\n",
              "      <th>...</th>\n",
              "      <td>...</td>\n",
              "    </tr>\n",
              "    <tr>\n",
              "      <th>1195</th>\n",
              "      <td>19</td>\n",
              "    </tr>\n",
              "    <tr>\n",
              "      <th>1196</th>\n",
              "      <td>19</td>\n",
              "    </tr>\n",
              "    <tr>\n",
              "      <th>1197</th>\n",
              "      <td>19</td>\n",
              "    </tr>\n",
              "    <tr>\n",
              "      <th>1198</th>\n",
              "      <td>19</td>\n",
              "    </tr>\n",
              "    <tr>\n",
              "      <th>1199</th>\n",
              "      <td>19</td>\n",
              "    </tr>\n",
              "  </tbody>\n",
              "</table>\n",
              "<p>1200 rows × 1 columns</p>\n",
              "</div><br><label><b>dtype:</b> int64</label>"
            ]
          },
          "metadata": {},
          "execution_count": 8
        }
      ]
    },
    {
      "cell_type": "code",
      "source": [
        "# Nuestro dataset ahora posee esa columna extra\n",
        "dat"
      ],
      "metadata": {
        "colab": {
          "base_uri": "https://localhost:8080/",
          "height": 423
        },
        "id": "15bLlEzeT9Qd",
        "outputId": "c948d403-8568-46f0-d395-0580ac0a8f94"
      },
      "execution_count": 9,
      "outputs": [
        {
          "output_type": "execute_result",
          "data": {
            "text/plain": [
              "      Unnamed: 0      label  \\\n",
              "0              0  Psoriasis   \n",
              "1              1  Psoriasis   \n",
              "2              2  Psoriasis   \n",
              "3              3  Psoriasis   \n",
              "4              4  Psoriasis   \n",
              "...          ...        ...   \n",
              "1195         295   diabetes   \n",
              "1196         296   diabetes   \n",
              "1197         297   diabetes   \n",
              "1198         298   diabetes   \n",
              "1199         299   diabetes   \n",
              "\n",
              "                                                   text  label_encoded  \n",
              "0     I have been experiencing a skin rash on my arm...             15  \n",
              "1     My skin has been peeling, especially on my kne...             15  \n",
              "2     I have been experiencing joint pain in my fing...             15  \n",
              "3     There is a silver like dusting on my skin, esp...             15  \n",
              "4     My nails have small dents or pits in them, and...             15  \n",
              "...                                                 ...            ...  \n",
              "1195  I'm shaking and trembling all over. I've lost ...             19  \n",
              "1196  Particularly in the crevices of my skin, I hav...             19  \n",
              "1197  I regularly experience these intense urges and...             19  \n",
              "1198  I have trouble breathing, especially outside. ...             19  \n",
              "1199  I constantly sneeze and have a dry cough. My i...             19  \n",
              "\n",
              "[1200 rows x 4 columns]"
            ],
            "text/html": [
              "\n",
              "  <div id=\"df-601930ba-1159-433f-8be3-0074885bf23c\" class=\"colab-df-container\">\n",
              "    <div>\n",
              "<style scoped>\n",
              "    .dataframe tbody tr th:only-of-type {\n",
              "        vertical-align: middle;\n",
              "    }\n",
              "\n",
              "    .dataframe tbody tr th {\n",
              "        vertical-align: top;\n",
              "    }\n",
              "\n",
              "    .dataframe thead th {\n",
              "        text-align: right;\n",
              "    }\n",
              "</style>\n",
              "<table border=\"1\" class=\"dataframe\">\n",
              "  <thead>\n",
              "    <tr style=\"text-align: right;\">\n",
              "      <th></th>\n",
              "      <th>Unnamed: 0</th>\n",
              "      <th>label</th>\n",
              "      <th>text</th>\n",
              "      <th>label_encoded</th>\n",
              "    </tr>\n",
              "  </thead>\n",
              "  <tbody>\n",
              "    <tr>\n",
              "      <th>0</th>\n",
              "      <td>0</td>\n",
              "      <td>Psoriasis</td>\n",
              "      <td>I have been experiencing a skin rash on my arm...</td>\n",
              "      <td>15</td>\n",
              "    </tr>\n",
              "    <tr>\n",
              "      <th>1</th>\n",
              "      <td>1</td>\n",
              "      <td>Psoriasis</td>\n",
              "      <td>My skin has been peeling, especially on my kne...</td>\n",
              "      <td>15</td>\n",
              "    </tr>\n",
              "    <tr>\n",
              "      <th>2</th>\n",
              "      <td>2</td>\n",
              "      <td>Psoriasis</td>\n",
              "      <td>I have been experiencing joint pain in my fing...</td>\n",
              "      <td>15</td>\n",
              "    </tr>\n",
              "    <tr>\n",
              "      <th>3</th>\n",
              "      <td>3</td>\n",
              "      <td>Psoriasis</td>\n",
              "      <td>There is a silver like dusting on my skin, esp...</td>\n",
              "      <td>15</td>\n",
              "    </tr>\n",
              "    <tr>\n",
              "      <th>4</th>\n",
              "      <td>4</td>\n",
              "      <td>Psoriasis</td>\n",
              "      <td>My nails have small dents or pits in them, and...</td>\n",
              "      <td>15</td>\n",
              "    </tr>\n",
              "    <tr>\n",
              "      <th>...</th>\n",
              "      <td>...</td>\n",
              "      <td>...</td>\n",
              "      <td>...</td>\n",
              "      <td>...</td>\n",
              "    </tr>\n",
              "    <tr>\n",
              "      <th>1195</th>\n",
              "      <td>295</td>\n",
              "      <td>diabetes</td>\n",
              "      <td>I'm shaking and trembling all over. I've lost ...</td>\n",
              "      <td>19</td>\n",
              "    </tr>\n",
              "    <tr>\n",
              "      <th>1196</th>\n",
              "      <td>296</td>\n",
              "      <td>diabetes</td>\n",
              "      <td>Particularly in the crevices of my skin, I hav...</td>\n",
              "      <td>19</td>\n",
              "    </tr>\n",
              "    <tr>\n",
              "      <th>1197</th>\n",
              "      <td>297</td>\n",
              "      <td>diabetes</td>\n",
              "      <td>I regularly experience these intense urges and...</td>\n",
              "      <td>19</td>\n",
              "    </tr>\n",
              "    <tr>\n",
              "      <th>1198</th>\n",
              "      <td>298</td>\n",
              "      <td>diabetes</td>\n",
              "      <td>I have trouble breathing, especially outside. ...</td>\n",
              "      <td>19</td>\n",
              "    </tr>\n",
              "    <tr>\n",
              "      <th>1199</th>\n",
              "      <td>299</td>\n",
              "      <td>diabetes</td>\n",
              "      <td>I constantly sneeze and have a dry cough. My i...</td>\n",
              "      <td>19</td>\n",
              "    </tr>\n",
              "  </tbody>\n",
              "</table>\n",
              "<p>1200 rows × 4 columns</p>\n",
              "</div>\n",
              "    <div class=\"colab-df-buttons\">\n",
              "\n",
              "  <div class=\"colab-df-container\">\n",
              "    <button class=\"colab-df-convert\" onclick=\"convertToInteractive('df-601930ba-1159-433f-8be3-0074885bf23c')\"\n",
              "            title=\"Convert this dataframe to an interactive table.\"\n",
              "            style=\"display:none;\">\n",
              "\n",
              "  <svg xmlns=\"http://www.w3.org/2000/svg\" height=\"24px\" viewBox=\"0 -960 960 960\">\n",
              "    <path d=\"M120-120v-720h720v720H120Zm60-500h600v-160H180v160Zm220 220h160v-160H400v160Zm0 220h160v-160H400v160ZM180-400h160v-160H180v160Zm440 0h160v-160H620v160ZM180-180h160v-160H180v160Zm440 0h160v-160H620v160Z\"/>\n",
              "  </svg>\n",
              "    </button>\n",
              "\n",
              "  <style>\n",
              "    .colab-df-container {\n",
              "      display:flex;\n",
              "      gap: 12px;\n",
              "    }\n",
              "\n",
              "    .colab-df-convert {\n",
              "      background-color: #E8F0FE;\n",
              "      border: none;\n",
              "      border-radius: 50%;\n",
              "      cursor: pointer;\n",
              "      display: none;\n",
              "      fill: #1967D2;\n",
              "      height: 32px;\n",
              "      padding: 0 0 0 0;\n",
              "      width: 32px;\n",
              "    }\n",
              "\n",
              "    .colab-df-convert:hover {\n",
              "      background-color: #E2EBFA;\n",
              "      box-shadow: 0px 1px 2px rgba(60, 64, 67, 0.3), 0px 1px 3px 1px rgba(60, 64, 67, 0.15);\n",
              "      fill: #174EA6;\n",
              "    }\n",
              "\n",
              "    .colab-df-buttons div {\n",
              "      margin-bottom: 4px;\n",
              "    }\n",
              "\n",
              "    [theme=dark] .colab-df-convert {\n",
              "      background-color: #3B4455;\n",
              "      fill: #D2E3FC;\n",
              "    }\n",
              "\n",
              "    [theme=dark] .colab-df-convert:hover {\n",
              "      background-color: #434B5C;\n",
              "      box-shadow: 0px 1px 3px 1px rgba(0, 0, 0, 0.15);\n",
              "      filter: drop-shadow(0px 1px 2px rgba(0, 0, 0, 0.3));\n",
              "      fill: #FFFFFF;\n",
              "    }\n",
              "  </style>\n",
              "\n",
              "    <script>\n",
              "      const buttonEl =\n",
              "        document.querySelector('#df-601930ba-1159-433f-8be3-0074885bf23c button.colab-df-convert');\n",
              "      buttonEl.style.display =\n",
              "        google.colab.kernel.accessAllowed ? 'block' : 'none';\n",
              "\n",
              "      async function convertToInteractive(key) {\n",
              "        const element = document.querySelector('#df-601930ba-1159-433f-8be3-0074885bf23c');\n",
              "        const dataTable =\n",
              "          await google.colab.kernel.invokeFunction('convertToInteractive',\n",
              "                                                    [key], {});\n",
              "        if (!dataTable) return;\n",
              "\n",
              "        const docLinkHtml = 'Like what you see? Visit the ' +\n",
              "          '<a target=\"_blank\" href=https://colab.research.google.com/notebooks/data_table.ipynb>data table notebook</a>'\n",
              "          + ' to learn more about interactive tables.';\n",
              "        element.innerHTML = '';\n",
              "        dataTable['output_type'] = 'display_data';\n",
              "        await google.colab.output.renderOutput(dataTable, element);\n",
              "        const docLink = document.createElement('div');\n",
              "        docLink.innerHTML = docLinkHtml;\n",
              "        element.appendChild(docLink);\n",
              "      }\n",
              "    </script>\n",
              "  </div>\n",
              "\n",
              "\n",
              "    <div id=\"df-5d169c27-9536-43c8-a9c9-55bd76d1272c\">\n",
              "      <button class=\"colab-df-quickchart\" onclick=\"quickchart('df-5d169c27-9536-43c8-a9c9-55bd76d1272c')\"\n",
              "                title=\"Suggest charts\"\n",
              "                style=\"display:none;\">\n",
              "\n",
              "<svg xmlns=\"http://www.w3.org/2000/svg\" height=\"24px\"viewBox=\"0 0 24 24\"\n",
              "     width=\"24px\">\n",
              "    <g>\n",
              "        <path d=\"M19 3H5c-1.1 0-2 .9-2 2v14c0 1.1.9 2 2 2h14c1.1 0 2-.9 2-2V5c0-1.1-.9-2-2-2zM9 17H7v-7h2v7zm4 0h-2V7h2v10zm4 0h-2v-4h2v4z\"/>\n",
              "    </g>\n",
              "</svg>\n",
              "      </button>\n",
              "\n",
              "<style>\n",
              "  .colab-df-quickchart {\n",
              "      --bg-color: #E8F0FE;\n",
              "      --fill-color: #1967D2;\n",
              "      --hover-bg-color: #E2EBFA;\n",
              "      --hover-fill-color: #174EA6;\n",
              "      --disabled-fill-color: #AAA;\n",
              "      --disabled-bg-color: #DDD;\n",
              "  }\n",
              "\n",
              "  [theme=dark] .colab-df-quickchart {\n",
              "      --bg-color: #3B4455;\n",
              "      --fill-color: #D2E3FC;\n",
              "      --hover-bg-color: #434B5C;\n",
              "      --hover-fill-color: #FFFFFF;\n",
              "      --disabled-bg-color: #3B4455;\n",
              "      --disabled-fill-color: #666;\n",
              "  }\n",
              "\n",
              "  .colab-df-quickchart {\n",
              "    background-color: var(--bg-color);\n",
              "    border: none;\n",
              "    border-radius: 50%;\n",
              "    cursor: pointer;\n",
              "    display: none;\n",
              "    fill: var(--fill-color);\n",
              "    height: 32px;\n",
              "    padding: 0;\n",
              "    width: 32px;\n",
              "  }\n",
              "\n",
              "  .colab-df-quickchart:hover {\n",
              "    background-color: var(--hover-bg-color);\n",
              "    box-shadow: 0 1px 2px rgba(60, 64, 67, 0.3), 0 1px 3px 1px rgba(60, 64, 67, 0.15);\n",
              "    fill: var(--button-hover-fill-color);\n",
              "  }\n",
              "\n",
              "  .colab-df-quickchart-complete:disabled,\n",
              "  .colab-df-quickchart-complete:disabled:hover {\n",
              "    background-color: var(--disabled-bg-color);\n",
              "    fill: var(--disabled-fill-color);\n",
              "    box-shadow: none;\n",
              "  }\n",
              "\n",
              "  .colab-df-spinner {\n",
              "    border: 2px solid var(--fill-color);\n",
              "    border-color: transparent;\n",
              "    border-bottom-color: var(--fill-color);\n",
              "    animation:\n",
              "      spin 1s steps(1) infinite;\n",
              "  }\n",
              "\n",
              "  @keyframes spin {\n",
              "    0% {\n",
              "      border-color: transparent;\n",
              "      border-bottom-color: var(--fill-color);\n",
              "      border-left-color: var(--fill-color);\n",
              "    }\n",
              "    20% {\n",
              "      border-color: transparent;\n",
              "      border-left-color: var(--fill-color);\n",
              "      border-top-color: var(--fill-color);\n",
              "    }\n",
              "    30% {\n",
              "      border-color: transparent;\n",
              "      border-left-color: var(--fill-color);\n",
              "      border-top-color: var(--fill-color);\n",
              "      border-right-color: var(--fill-color);\n",
              "    }\n",
              "    40% {\n",
              "      border-color: transparent;\n",
              "      border-right-color: var(--fill-color);\n",
              "      border-top-color: var(--fill-color);\n",
              "    }\n",
              "    60% {\n",
              "      border-color: transparent;\n",
              "      border-right-color: var(--fill-color);\n",
              "    }\n",
              "    80% {\n",
              "      border-color: transparent;\n",
              "      border-right-color: var(--fill-color);\n",
              "      border-bottom-color: var(--fill-color);\n",
              "    }\n",
              "    90% {\n",
              "      border-color: transparent;\n",
              "      border-bottom-color: var(--fill-color);\n",
              "    }\n",
              "  }\n",
              "</style>\n",
              "\n",
              "      <script>\n",
              "        async function quickchart(key) {\n",
              "          const quickchartButtonEl =\n",
              "            document.querySelector('#' + key + ' button');\n",
              "          quickchartButtonEl.disabled = true;  // To prevent multiple clicks.\n",
              "          quickchartButtonEl.classList.add('colab-df-spinner');\n",
              "          try {\n",
              "            const charts = await google.colab.kernel.invokeFunction(\n",
              "                'suggestCharts', [key], {});\n",
              "          } catch (error) {\n",
              "            console.error('Error during call to suggestCharts:', error);\n",
              "          }\n",
              "          quickchartButtonEl.classList.remove('colab-df-spinner');\n",
              "          quickchartButtonEl.classList.add('colab-df-quickchart-complete');\n",
              "        }\n",
              "        (() => {\n",
              "          let quickchartButtonEl =\n",
              "            document.querySelector('#df-5d169c27-9536-43c8-a9c9-55bd76d1272c button');\n",
              "          quickchartButtonEl.style.display =\n",
              "            google.colab.kernel.accessAllowed ? 'block' : 'none';\n",
              "        })();\n",
              "      </script>\n",
              "    </div>\n",
              "\n",
              "  <div id=\"id_4564c3b5-5cab-4862-9bed-a284f4ac4f33\">\n",
              "    <style>\n",
              "      .colab-df-generate {\n",
              "        background-color: #E8F0FE;\n",
              "        border: none;\n",
              "        border-radius: 50%;\n",
              "        cursor: pointer;\n",
              "        display: none;\n",
              "        fill: #1967D2;\n",
              "        height: 32px;\n",
              "        padding: 0 0 0 0;\n",
              "        width: 32px;\n",
              "      }\n",
              "\n",
              "      .colab-df-generate:hover {\n",
              "        background-color: #E2EBFA;\n",
              "        box-shadow: 0px 1px 2px rgba(60, 64, 67, 0.3), 0px 1px 3px 1px rgba(60, 64, 67, 0.15);\n",
              "        fill: #174EA6;\n",
              "      }\n",
              "\n",
              "      [theme=dark] .colab-df-generate {\n",
              "        background-color: #3B4455;\n",
              "        fill: #D2E3FC;\n",
              "      }\n",
              "\n",
              "      [theme=dark] .colab-df-generate:hover {\n",
              "        background-color: #434B5C;\n",
              "        box-shadow: 0px 1px 3px 1px rgba(0, 0, 0, 0.15);\n",
              "        filter: drop-shadow(0px 1px 2px rgba(0, 0, 0, 0.3));\n",
              "        fill: #FFFFFF;\n",
              "      }\n",
              "    </style>\n",
              "    <button class=\"colab-df-generate\" onclick=\"generateWithVariable('dat')\"\n",
              "            title=\"Generate code using this dataframe.\"\n",
              "            style=\"display:none;\">\n",
              "\n",
              "  <svg xmlns=\"http://www.w3.org/2000/svg\" height=\"24px\"viewBox=\"0 0 24 24\"\n",
              "       width=\"24px\">\n",
              "    <path d=\"M7,19H8.4L18.45,9,17,7.55,7,17.6ZM5,21V16.75L18.45,3.32a2,2,0,0,1,2.83,0l1.4,1.43a1.91,1.91,0,0,1,.58,1.4,1.91,1.91,0,0,1-.58,1.4L9.25,21ZM18.45,9,17,7.55Zm-12,3A5.31,5.31,0,0,0,4.9,8.1,5.31,5.31,0,0,0,1,6.5,5.31,5.31,0,0,0,4.9,4.9,5.31,5.31,0,0,0,6.5,1,5.31,5.31,0,0,0,8.1,4.9,5.31,5.31,0,0,0,12,6.5,5.46,5.46,0,0,0,6.5,12Z\"/>\n",
              "  </svg>\n",
              "    </button>\n",
              "    <script>\n",
              "      (() => {\n",
              "      const buttonEl =\n",
              "        document.querySelector('#id_4564c3b5-5cab-4862-9bed-a284f4ac4f33 button.colab-df-generate');\n",
              "      buttonEl.style.display =\n",
              "        google.colab.kernel.accessAllowed ? 'block' : 'none';\n",
              "\n",
              "      buttonEl.onclick = () => {\n",
              "        google.colab.notebook.generateWithVariable('dat');\n",
              "      }\n",
              "      })();\n",
              "    </script>\n",
              "  </div>\n",
              "\n",
              "    </div>\n",
              "  </div>\n"
            ],
            "application/vnd.google.colaboratory.intrinsic+json": {
              "type": "dataframe",
              "variable_name": "dat",
              "summary": "{\n  \"name\": \"dat\",\n  \"rows\": 1200,\n  \"fields\": [\n    {\n      \"column\": \"Unnamed: 0\",\n      \"properties\": {\n        \"dtype\": \"number\",\n        \"std\": 86,\n        \"min\": 0,\n        \"max\": 299,\n        \"num_unique_values\": 300,\n        \"samples\": [\n          203,\n          266,\n          152\n        ],\n        \"semantic_type\": \"\",\n        \"description\": \"\"\n      }\n    },\n    {\n      \"column\": \"label\",\n      \"properties\": {\n        \"dtype\": \"category\",\n        \"num_unique_values\": 24,\n        \"samples\": [\n          \"Pneumonia\",\n          \"Jaundice\",\n          \"Psoriasis\"\n        ],\n        \"semantic_type\": \"\",\n        \"description\": \"\"\n      }\n    },\n    {\n      \"column\": \"text\",\n      \"properties\": {\n        \"dtype\": \"string\",\n        \"num_unique_values\": 1153,\n        \"samples\": [\n          \"I've had back pain, a cough that won't go away, and limb weakness. I've been experiencing neck pain, instability, and balance concerns.\",\n          \"Recently, I've been having problems using the restroom. Going is incredibly difficult, and doing so hurts. In addition, I've been experiencing some butt soreness, and my stools have been bloody. My anus has also been quite itching and aggravated.\",\n          \"I've been exhausted and experiencing nausea and itching. In addition, I've lost weight and have a temperature. My urine is dark, and my skin has turned yellow. Additionally, I've been having stomach pain.\"\n        ],\n        \"semantic_type\": \"\",\n        \"description\": \"\"\n      }\n    },\n    {\n      \"column\": \"label_encoded\",\n      \"properties\": {\n        \"dtype\": \"number\",\n        \"std\": 6,\n        \"min\": 0,\n        \"max\": 23,\n        \"num_unique_values\": 24,\n        \"samples\": [\n          14,\n          11,\n          15\n        ],\n        \"semantic_type\": \"\",\n        \"description\": \"\"\n      }\n    }\n  ]\n}"
            }
          },
          "metadata": {},
          "execution_count": 9
        }
      ]
    },
    {
      "cell_type": "markdown",
      "source": [
        "### Train - Test split"
      ],
      "metadata": {
        "id": "BRsAb8ammKIT"
      }
    },
    {
      "cell_type": "code",
      "source": [
        "train_ratio = 0.8\n",
        "# sample 80% of the data for training and 20% for validation for each label\n",
        "train = dat.groupby('label_encoded', group_keys=False).apply(lambda x: x.sample(frac=train_ratio, random_state=42))\n",
        "val = dat.drop(train.index)\n",
        "\n",
        "train_texts = train['text'].values\n",
        "train_labels = train['label_encoded'].values\n",
        "val_texts = val['text'].values\n",
        "val_labels = val['label_encoded'].values\n",
        "\n",
        "train_texts.shape, train_labels.shape, val_texts.shape, val_labels.shape"
      ],
      "metadata": {
        "colab": {
          "base_uri": "https://localhost:8080/"
        },
        "id": "ixyDT4vamP4h",
        "outputId": "b3c3e1e8-4d4b-49a5-f841-c44303d1ee05"
      },
      "execution_count": 10,
      "outputs": [
        {
          "output_type": "stream",
          "name": "stderr",
          "text": [
            "<ipython-input-10-602544770ced>:3: DeprecationWarning: DataFrameGroupBy.apply operated on the grouping columns. This behavior is deprecated, and in a future version of pandas the grouping columns will be excluded from the operation. Either pass `include_groups=False` to exclude the groupings or explicitly select the grouping columns after groupby to silence this warning.\n",
            "  train = dat.groupby('label_encoded', group_keys=False).apply(lambda x: x.sample(frac=train_ratio, random_state=42))\n"
          ]
        },
        {
          "output_type": "execute_result",
          "data": {
            "text/plain": [
              "((960,), (960,), (240,), (240,))"
            ]
          },
          "metadata": {},
          "execution_count": 10
        }
      ]
    },
    {
      "cell_type": "markdown",
      "source": [
        "### Remover stopwords"
      ],
      "metadata": {
        "id": "NdIvwypnmdii"
      }
    },
    {
      "cell_type": "code",
      "source": [
        "# Tipos de stopword en nltk (primeras 10)\n",
        "stopwords.words('english')[:10]"
      ],
      "metadata": {
        "colab": {
          "base_uri": "https://localhost:8080/"
        },
        "id": "aGzBq3R4CD6x",
        "outputId": "de32bb12-b588-4311-dcc5-fbaf895b8b76"
      },
      "execution_count": 11,
      "outputs": [
        {
          "output_type": "execute_result",
          "data": {
            "text/plain": [
              "['a', 'about', 'above', 'after', 'again', 'against', 'ain', 'all', 'am', 'an']"
            ]
          },
          "metadata": {},
          "execution_count": 11
        }
      ]
    },
    {
      "cell_type": "code",
      "source": [
        "# Funcion que utilizaremos para remover las stop words\n",
        "def remove_stopwords(texts):\n",
        "  # first remove all punctuations\n",
        "  words = [re.split(r'[ ,.]+', text) for text in texts]\n",
        "\n",
        "  # remove space and make all words lower case\n",
        "  words = [[word.lower() for word in text if word != ''] for text in words]\n",
        "\n",
        "  # remove stop words using nltk (or you can use your own stop words, see below)\n",
        "  stop_words = set(stopwords.words('english'))\n",
        "\n",
        "  words = [[word for word in text if word.lower() not in stop_words] for text in words]\n",
        "  return words\n",
        "\n",
        "print(train_texts[0])\n",
        "# test the function\n",
        "print(remove_stopwords(train_texts)[0])"
      ],
      "metadata": {
        "colab": {
          "base_uri": "https://localhost:8080/"
        },
        "id": "yOFY2YNAmgrp",
        "outputId": "220d9dbf-4914-42bd-8b5a-c560a325f8f4"
      },
      "execution_count": 15,
      "outputs": [
        {
          "output_type": "stream",
          "name": "stdout",
          "text": [
            "A nasty rash has just appeared on my skin. Blackheads and pimples packed with pus are everywhere. Additionally, my skin has been extremely sensitive.\n",
            "['nasty', 'rash', 'appeared', 'skin', 'blackheads', 'pimples', 'packed', 'pus', 'everywhere', 'additionally', 'skin', 'extremely', 'sensitive']\n"
          ]
        }
      ]
    },
    {
      "cell_type": "code",
      "source": [
        "# make a tokenizer\n",
        "tokenizer = Tokenizer(oov_token=\"<OOV>\")\n",
        "tokenizer.fit_on_texts(train_texts)\n",
        "\n",
        "def tokenize_and_pad(words, tokenizer, max_len=50):\n",
        "    # convert the text to sequences of integers\n",
        "    sequences = tokenizer.texts_to_sequences(words)\n",
        "    # pad the sequences using the maxlen to make all sequences the same length\n",
        "    padded_sequences = pad_sequences(sequences, maxlen=max_len, padding='post')\n",
        "    return padded_sequences\n",
        "\n",
        "# test the function\n",
        "print(train_texts[0], end=\"\\n\\n\")\n",
        "print(len(train_texts[0].split(\" \")), end=\"\\n\\n\")\n",
        "tokenize_and_pad(train_texts, tokenizer)[0]"
      ],
      "metadata": {
        "colab": {
          "base_uri": "https://localhost:8080/"
        },
        "id": "sqOxexDmm8Nr",
        "outputId": "f6b1774b-8787-4dd9-f423-2a03aa6017c5"
      },
      "execution_count": 12,
      "outputs": [
        {
          "output_type": "stream",
          "name": "stdout",
          "text": [
            "A nasty rash has just appeared on my skin. Blackheads and pimples packed with pus are everywhere. Additionally, my skin has been extremely sensitive.\n",
            "\n",
            "24\n",
            "\n"
          ]
        },
        {
          "output_type": "execute_result",
          "data": {
            "text/plain": [
              "array([  5, 287,  46,  13, 177, 562,  22,   3,  16, 133,   2,  92, 637,\n",
              "        24, 134,  18, 400,  89,   3,  16,  13,   6,  98, 269,   0,   0,\n",
              "         0,   0,   0,   0,   0,   0,   0,   0,   0,   0,   0,   0,   0,\n",
              "         0,   0,   0,   0,   0,   0,   0,   0,   0,   0,   0], dtype=int32)"
            ]
          },
          "metadata": {},
          "execution_count": 12
        }
      ]
    },
    {
      "cell_type": "code",
      "source": [
        "print(tokenizer.word_index)\n",
        "print(len((tokenizer.word_index)))"
      ],
      "metadata": {
        "colab": {
          "base_uri": "https://localhost:8080/"
        },
        "id": "aQSeYVasbKEE",
        "outputId": "9318d186-604d-4c66-98c4-e4990915b8fd"
      },
      "execution_count": 13,
      "outputs": [
        {
          "output_type": "stream",
          "name": "stdout",
          "text": [
            "{'<OOV>': 1, 'and': 2, 'my': 3, 'i': 4, 'a': 5, 'been': 6, 'have': 7, \"i've\": 8, 'of': 9, 'the': 10, 'to': 11, 'is': 12, 'has': 13, 'also': 14, 'in': 15, 'skin': 16, 'lot': 17, 'are': 18, 'really': 19, 'pain': 20, 'it': 21, 'on': 22, \"i'm\": 23, 'with': 24, 'fever': 25, 'that': 26, 'feeling': 27, 'me': 28, 'high': 29, 'feel': 30, 'experiencing': 31, 'neck': 32, 'having': 33, 'when': 34, 'there': 35, 'had': 36, 'get': 37, 'chest': 38, \"it's\": 39, 'am': 40, 'all': 41, 'for': 42, 'cough': 43, 'headache': 44, 'as': 45, 'rash': 46, 'quite': 47, 'up': 48, 'hurts': 49, 'throat': 50, 'severe': 51, 'red': 52, 'some': 53, 'body': 54, 'painful': 55, 'itching': 56, 'from': 57, 'very': 58, 'this': 59, 'weak': 60, 'chills': 61, 'over': 62, 'or': 63, 'back': 64, 'like': 65, 'difficult': 66, 'lost': 67, 'stomach': 68, 'coughing': 69, 'time': 70, 'discomfort': 71, 'frequently': 72, 'recently': 73, 'muscles': 74, 'nausea': 75, 'uncomfortable': 76, 'go': 77, 'exhausted': 78, 'legs': 79, 'occasionally': 80, 'trouble': 81, 'appetite': 82, 'nose': 83, 'vomiting': 84, 'breathing': 85, \"can't\": 86, 'arms': 87, 'weight': 88, 'additionally': 89, 'rashes': 90, 'along': 91, 'pimples': 92, 'out': 93, 'yellow': 94, 'swollen': 95, 'itchy': 96, 'which': 97, 'extremely': 98, 'addition': 99, 'joints': 100, 'stiff': 101, 'these': 102, 'temperature': 103, 'headaches': 104, 'well': 105, 'developed': 106, 'sore': 107, 'often': 108, 'anus': 109, 'urine': 110, 'become': 111, 'because': 112, 'sometimes': 113, 'by': 114, 'sores': 115, 'at': 116, 'spots': 117, 'do': 118, 'around': 119, 'eyes': 120, 'night': 121, 'muscle': 122, 'tired': 123, 'ache': 124, 'indigestion': 125, 'hard': 126, 'dry': 127, 'dizziness': 128, 'filled': 129, 'causing': 130, 'face': 131, 'suffering': 132, 'blackheads': 133, 'pus': 134, 'getting': 135, 'about': 136, 'worse': 137, 'heart': 138, 'weakness': 139, 'issues': 140, 'few': 141, 'balance': 142, 'more': 143, 'lately': 144, 'phlegm': 145, 'anything': 146, 'walking': 147, 'difficulty': 148, 'days': 149, 'eating': 150, 'feels': 151, 'blood': 152, 'intense': 153, 'pee': 154, 'mouth': 155, 'little': 156, 'seem': 157, 'sweating': 158, 'vision': 159, 'taste': 160, 'after': 161, 'making': 162, 'perspiring': 163, 'problems': 164, \"don't\": 165, 'smell': 166, 'move': 167, 'persistent': 168, 'different': 169, 'frequent': 170, 'since': 171, 'mucus': 172, 'thick': 173, 'worn': 174, 'sick': 175, 'dark': 176, 'just': 177, 'breath': 178, 'symptoms': 179, 'mild': 180, 'acid': 181, 'constantly': 182, 'be': 183, 'small': 184, 'noticed': 185, 'accompanied': 186, 'bloody': 187, 'terrible': 188, 'excessive': 189, 'constipation': 190, 'reflux': 191, 'now': 192, 'so': 193, 'bad': 194, 'walk': 195, 'day': 196, 'rest': 197, 'aches': 198, 'them': 199, 'abdominal': 200, 'visual': 201, 'urinate': 202, 'than': 203, 'both': 204, 'especially': 205, 'becoming': 206, 'dizzy': 207, 'loss': 208, 'patches': 209, 'scratchy': 210, 'even': 211, 'food': 212, 'cramps': 213, 'without': 214, 'fatigued': 215, 'can': 216, 'starting': 217, 'bowel': 218, 'bothering': 219, 'not': 220, 'swelling': 221, 'fatigue': 222, 'constant': 223, 'every': 224, 'worried': 225, 'near': 226, 'always': 227, 'vomit': 228, 'heartburn': 229, 'veins': 230, 'too': 231, 'strong': 232, 'mucoid': 233, 'away': 234, 'inflamed': 235, 'down': 236, 'sneezing': 237, 'stool': 238, 'stools': 239, 'turned': 240, 'black': 241, 'an': 242, 'stiffness': 243, 'unpleasant': 244, 'mucous': 245, 'ill': 246, 'losing': 247, 'experience': 248, 'bumps': 249, 'regularly': 250, 'hunger': 251, 'brownish': 252, 'morning': 253, 'uneasy': 254, 'challenging': 255, 'area': 256, 'sputum': 257, 'gets': 258, 'feet': 259, 'off': 260, 'experienced': 261, 'concentrate': 262, 'head': 263, 'regular': 264, 'started': 265, 'irritability': 266, 'racing': 267, 'diarrhea': 268, 'sensitive': 269, 'while': 270, 'but': 271, 'difficulties': 272, 'past': 273, 'hurting': 274, 'sensation': 275, 'energy': 276, 'nodes': 277, 'eat': 278, 'burning': 279, 'focus': 280, 'going': 281, 'disturbance': 282, 'blurred': 283, 'nails': 284, 'abdomen': 285, 'swallowing': 286, 'nasty': 287, 'pretty': 288, 'excruciatingly': 289, 'everything': 290, \"won't\": 291, 'lightheaded': 292, 'no': 293, 'nauseous': 294, 'touch': 295, 'they': 296, 'cold': 297, 'irritated': 298, 'stop': 299, 'joint': 300, 'strange': 301, 'restroom': 302, 'bathroom': 303, 'lumps': 304, 'sour': 305, 'find': 306, 'tight': 307, 'hurt': 308, 'increased': 309, 'lymph': 310, 'pressure': 311, 'sinuses': 312, 'areas': 313, 'extreme': 314, 'bleeding': 315, 'hue': 316, 'fluid': 317, 'distorted': 318, 'depression': 319, 'belly': 320, 'urges': 321, 'struggling': 322, 'run': 323, 'due': 324, 'result': 325, 'exhaustion': 326, 'including': 327, 'lack': 328, 'what': 329, 'spreading': 330, 'makes': 331, 'seems': 332, 'lips': 333, 'sleeping': 334, 'times': 335, 'long': 336, 'calves': 337, 'tingling': 338, 'acidic': 339, 'scurrying': 340, 'things': 341, 'staying': 342, 'keep': 343, 'during': 344, 'made': 345, 'developing': 346, 'scratching': 347, 'using': 348, 'then': 349, 'noticeable': 350, 'periods': 351, 'start': 352, 'low': 353, 'covered': 354, 'several': 355, 'rashy': 356, 'muscular': 357, 'rather': 358, 'producing': 359, 'running': 360, 'seen': 361, 'incredibly': 362, 'got': 363, 'health': 364, 'excruciating': 365, 'discomforts': 366, 'swell': 367, 'know': 368, 'itch': 369, 'generally': 370, 'certain': 371, 'activities': 372, 'lesions': 373, 'last': 374, 'bloating': 375, 'vessels': 376, 'woke': 377, 'felt': 378, 'concerning': 379, 'deal': 380, 'impaired': 381, 'shivering': 382, 'moreover': 383, 'entire': 384, 'work': 385, 'whenever': 386, 'observed': 387, 'resemble': 388, 'color': 389, 'colored': 390, 'healing': 391, 'longer': 392, 'itchiness': 393, 'queasy': 394, 'beating': 395, 'foul': 396, 'dents': 397, 'foods': 398, 'upper': 399, 'everywhere': 400, 'irritating': 401, 'horrible': 402, 'into': 403, 'catch': 404, 'through': 405, 'shortness': 406, 'chronic': 407, 'breathe': 408, 'much': 409, 'think': 410, 'awful': 411, 'use': 412, 'constipated': 413, 'movements': 414, 'look': 415, 'other': 416, 'unwell': 417, 'rust': 418, 'eyesight': 419, 'impatience': 420, 'change': 421, 'meals': 422, 'profusely': 423, 'peeling': 424, 'asleep': 425, 'foggy': 426, 'lose': 427, 'almost': 428, 'blocked': 429, 'see': 430, 'large': 431, 'able': 432, 'numbness': 433, 'myself': 434, 'itches': 435, 'miserable': 436, 'daily': 437, 'any': 438, 'most': 439, 'congested': 440, 'pains': 441, 'bloated': 442, 'runny': 443, 'usual': 444, 'behind': 445, 'soreness': 446, 'motions': 447, 'only': 448, 'appear': 449, 'suddenly': 450, 'focusing': 451, 'coming': 452, 'visible': 453, 'parts': 454, 'hungry': 455, 'infections': 456, 'changes': 457, 'hands': 458, 'palpitations': 459, 'spicy': 460, 'smells': 461, 'scurring': 462, 'significant': 463, 'dealing': 464, 'tough': 465, 'drained': 466, 'doctor': 467, 'couple': 468, 'unsteady': 469, 'vertigo': 470, 'limb': 471, 'woozy': 472, 'if': 473, \"what's\": 474, 'sleep': 475, 'cannot': 476, 'congestion': 477, 'bothered': 478, 'usually': 479, 'shaking': 480, 'sense': 481, 'such': 482, 'causes': 483, 'concerned': 484, 'digestive': 485, 'bleeds': 486, 'bumpy': 487, 'odd': 488, 'prone': 489, 'week': 490, 'was': 491, 'flaky': 492, 'discharge': 493, 'infection': 494, 'particularly': 495, 'throwing': 496, 'acidity': 497, 'hazy': 498, 'migraines': 499, 'fast': 500, 'pounding': 501, 'elbows': 502, 'flake': 503, 'sudden': 504, 'dusting': 505, 'lower': 506, 'falling': 507, 'urination': 508, 'aftertaste': 509, 'lie': 510, 'temperatures': 511, 'odour': 512, 'clogged': 513, 'terribly': 514, 'roof': 515, 'being': 516, 'saliva': 517, 'fairly': 518, 'balanced': 519, 'plaguing': 520, 'scratch': 521, 'rapidly': 522, 'something': 523, 'life': 524, 'completely': 525, 'tiny': 526, 'watery': 527, 'nonstop': 528, 'kind': 529, \"there's\": 530, 'shake': 531, 'urge': 532, 'butt': 533, 'weird': 534, 'balls': 535, 'places': 536, 'regions': 537, 'firm': 538, 'shade': 539, 'nodules': 540, 'ability': 541, 'concentrating': 542, 'blistering': 543, 'rid': 544, 'caused': 545, 'heal': 546, 'nasal': 547, 'sadness': 548, 'sweat': 549, 'knees': 550, 'peel': 551, 'changed': 552, 'loose': 553, 'smelling': 554, 'bruise': 555, 'occasion': 556, 'trembling': 557, 'want': 558, 'cloudy': 559, 'hiccups': 560, 'stuck': 561, 'appeared': 562, 'furthermore': 563, 'severely': 564, 'discovered': 565, 'huge': 566, 'behalf': 567, 'enlarged': 568, 'simply': 569, \"haven't\": 570, 'exhausting': 571, \"that's\": 572, 'right': 573, 'limbs': 574, 'unstable': 575, 'disoriented': 576, 'instability': 577, 'standing': 578, 'sure': 579, 'throughout': 580, 'hardly': 581, 'wrong': 582, 'great': 583, 'aching': 584, 'wheezing': 585, 'chilly': 586, 'tremble': 587, 'don’t': 588, 'doing': 589, 'tasks': 590, 'facing': 591, 'come': 592, 'redness': 593, 'tone': 594, 'colour': 595, 'becomes': 596, 'looks': 597, 'happening': 598, 'appears': 599, 'present': 600, 'taking': 601, 'lightheadedness': 602, 'today': 603, 'slowly': 604, 'gotten': 605, 'cheeks': 606, 'wounds': 607, 'besides': 608, 'nauseated': 609, 'seeing': 610, 'melancholy': 611, 'silver': 612, 'hydrated': 613, 'scalp': 614, 'inflammation': 615, 'fingers': 616, 'unusual': 617, 'stand': 618, 'sneeze': 619, 'once': 620, 'cravings': 621, 'irritations': 622, 'bruises': 623, 'cuts': 624, 'mind': 625, 'twitching': 626, 'hair': 627, 'lump': 628, 'throw': 629, 'fatty': 630, 'fullness': 631, 'belching': 632, 'swallow': 633, 'iron': 634, 'bloos': 635, 'tarry': 636, 'packed': 637, 'major': 638, 'place': 639, 'saw': 640, 'absolutely': 641, 'make': 642, 'creating': 643, 'grown': 644, 'truly': 645, 'try': 646, 'weariness': 647, 'hey': 648, 'shallow': 649, 'comes': 650, 'strength': 651, 'shaky': 652, 'lingering': 653, 'suffer': 654, 'hacking': 655, 'arm': 656, 'typically': 657, 'unable': 658, 'giving': 659, 'worrying': 660, 'under': 661, 'tightness': 662, 'stuffy': 663, 'stuff': 664, 'continuously': 665, 'normal': 666, 'vomitting': 667, 'sharp': 668, 'apetite': 669, 'physical': 670, 'whole': 671, 'agony': 672, 'irritation': 673, 'colors': 674, 'where': 675, 'followed': 676, 'fine': 677, 'believe': 678, 'ooze': 679, 'oozing': 680, 'brought': 681, 'stringy': 682, 'rate': 683, 'silvery': 684, 'scales': 685, 'easily': 686, 'cracks': 687, 'protrude': 688, 'cramp': 689, 'prominent': 690, 'marks': 691, 'cause': 692, 'puffing': 693, 'hot': 694, 'asthma': 695, 'senses': 696, 'wound': 697, 'numb': 698, 'better': 699, 'urinating': 700, 'take': 701, 'does': 702, 'mood': 703, 'brain': 704, 'desires': 705, 'cycle': 706, 'unexpected': 707, 'vaginal': 708, 'anxious': 709, 'metallic': 710, 'meal': 711, 'bitter': 712, 'burping': 713, 'anaemia': 714, 'antacids': 715, 'gas': 716, 'uncontrollable': 717, 'pelvic': 718, 'temps': 719, 'moving': 720, 'awoke': 721, 'many': 722, 'breakouts': 723, 'full': 724, 'battling': 725, 'steer': 726, 'put': 727, 'heavy': 728, 'solid': 729, 'please': 730, 'number': 731, 'mom': 732, 'lying': 733, 'barely': 734, 'open': 735, 'lethargic': 736, 'might': 737, 'idea': 738, 'explain': 739, 'driving': 740, 'facial': 741, 'gunk': 742, 'strain': 743, 'chill': 744, 'throbbing': 745, 'finding': 746, 'dripping': 747, 'covers': 748, 'everyday': 749, 'perform': 750, \"doesn't\": 751, 'medication': 752, 'struggle': 753, 'aside': 754, 'region': 755, 'aggravated': 756, 'movement': 757, 'turns': 758, 'annoying': 759, 'knots': 760, 'knot': 761, 'somewhat': 762, 'middle': 763, 'continual': 764, 'good': 765, 'began': 766, 'include': 767, 'ago': 768, 'quickly': 769, 'used': 770, 'excessively': 771, 'part': 772, 'anxiety': 773, 'distress': 774, 'distortion': 775, 'disruptions': 776, 'depressed': 777, 'irritable': 778, 'interfering': 779, 'lethargy': 780, 'reddish': 781, 'million': 782, 'miles': 783, 'hour': 784, 'rusty': 785, 'drenched': 786, 'rapid': 787, 'air': 788, 'weeks': 789, 'soles': 790, 'bleed': 791, 'growing': 792, 'sprint': 793, 'protruding': 794, 'sit': 795, 'obese': 796, 'may': 797, 'nighttime': 798, 'ocular': 799, 'fevers': 800, 'feverish': 801, 'cant': 802, 'crevices': 803, 'chores': 804, 'blurry': 805, 'significantly': 806, 'emotions': 807, 'tremors': 808, 'same': 809, 'texture': 810, 'dandruff': 811, 'monthly': 812, 'moods': 813, 'shiver': 814, 'mental': 815, 'clarity': 816, 'forget': 817, 'nervous': 818, 'leaves': 819, 'tongue': 820, 'sex': 821, 'poor': 822, 'wake': 823, 'voice': 824, 'belch': 825, 'jaw': 826, 'eaten': 827, 'uneasiness': 828, 'relieve': 829, 'ever': 830, 'bladder': 831, 'control': 832, 'help': 833, 'found': 834, 'ton': 835, 'riddled': 836, 'scurring\\xa0a': 837, 'tons': 838, 'exceedingly': 839, 'lots': 840, 'shifting': 841, 'abound': 842, 'acquired': 843, 'breaking': 844, 'yesterday': 845, 'troublesome': 846, 'regarding': 847, 'changing': 848, 'american': 849, 'whereas': 850, 'together': 851, 'frail': 852, 'feeble': 853, 'managing': 854, 'cope': 855, 'via': 856, 'recommend': 857, 'medications': 858, 'produced': 859, 'must': 860, 'moment': 861, 'manage': 862, 'angry': 863, 'currently': 864, 'tiring': 865, 'dad': 866, 'became': 867, 'nagging': 868, 'trying': 869, 'production': 870, 'sleepiness': 871, 'bed': 872, 'exceptionally': 873, 'weary': 874, 'productive': 875, 'goes': 876, 'concerns': 877, 'maintaining': 878, 'motivate': 879, 'understand': 880, 'armpits': 881, 'worry': 882, 'develop': 883, 'sinus': 884, 'puffy': 885, 'fire': 886, 'gross': 887, 'above': 888, 'trapped': 889, 'achy': 890, 'coldness': 891, 'need': 892, 'distinct': 893, 'properly': 894, 'upon': 895, 'surrounding': 896, 'typical': 897, 'tendency': 898, 'altered': 899, 'its': 900, 'natural': 901, 'darker': 902, 'raised': 903, 'colours': 904, 'brown': 905, 'nodular': 906, 'dischromic': 907, 'previous': 908, 'maintain': 909, 'forehead': 910, 'keeping': 911, 'head\\xa0pain': 912, 'concentration': 913, 'wore': 914, 'first': 915, 'shopping': 916, 'considerably': 917, 'likely': 918, 'infected': 919, 'cheek': 920, 'handle': 921, 'concern': 922, 'forming': 923, 'initially': 924, 'tender': 925, 'begun': 926, 'slower': 927, 'blisters': 928, 'mainly': 929, 'minor': 930, 'mostly': 931, 'condition': 932, 'beginning': 933, 'sickness': 934, 'additional': 935, 'affecting': 936, 'among': 937, 'catching': 938, 'per': 939, 'thumping': 940, 'disgusting': 941, 'pulse': 942, 'perspiration': 943, 'overall': 944, 'slightly': 945, 'inflammatory': 946, 'film': 947, 'winter': 948, 'moisturize': 949, 'humidifiers': 950, 'pits': 951, 'never': 952, 'various': 953, 'rub': 954, 'scaly': 955, 'palms': 956, 'flaking': 957, 'wrists': 958, 'fractures': 959, 'worsens': 960, 'entirely': 961, 'fitting': 962, 'shoes': 963, \"legs'\": 964, 'exercise': 965, 'why': 966, 'overweight': 967, 'calf': 968, 'cramping': 969, 'plugged': 970, 'wet': 971, 'occasional': 972, 'tickle': 973, 'decreased': 974, 'headches': 975, 'will': 976, 'water': 977, 'bewildered': 978, 'sight': 979, 'yeast': 980, 'however': 981, 'slow': 982, \"skin's\": 983, 'fluctuate': 984, 'simple': 985, 'confused': 986, 'clearly': 987, 'remembering': 988, 'swings': 989, 'thinking': 990, 'gain': 991, 'fog': 992, 'begin': 993, 'lean': 994, 'forward': 995, 'burp': 996, 'hunch': 997, 'spreads': 998, 'puke': 999, 'consuming': 1000, 'stoop': 1001, 'whatever': 1002, 'periodically': 1003, 'caught': 1004, 'beacuse': 1005, 'bend': 1006, 'gaining': 1007, 'hours': 1008, 'bending': 1009, 'diarrheal': 1010, 'acquire': 1011, 'keeps': 1012, 'interest': 1013, 'cuisine': 1014, 'unease': 1015, 'kidneys': 1016, 'hold': 1017, 'new': 1018, 'strongly': 1019, 'overnight': 1020, 'empty': 1021, 'crimson': 1022, 'four': 1023, 'output': 1024, 'merely': 1025, 'uninherited': 1026, 'struggled': 1027, 'realised': 1028, 'unhealthy': 1029, 'latterly': 1030, 'heaps': 1031, 'realized': 1032, 'delicate': 1033, 'proliferating': 1034, 'across': 1035, 'inherited': 1036, 'acne': 1037, 'contain': 1038, 'loaded': 1039, 'changing\\xa0a': 1040, 'nonheritable': 1041, 'revolting': 1042, 'crawling': 1043, 'weakened': 1044, 'agonisingly': 1045, 'agonizingly': 1046, 'attempt': 1047, 'matured': 1048, 'government': 1049, 'unit': 1050, 'maine': 1051, 'older': 1052, 'act': 1053, 'grownup': 1054, 'state': 1055, 'maneuver': 1056, 'thanks': 1057, 'rock': 1058, 'conjointly': 1059, 'upset': 1060, 'confess': 1061, 'copious': 1062, 'amounts': 1063, 'hello': 1064, 'father': 1065, 'labored': 1066, 'draining': 1067, 'admit': 1068, 'depleted': 1069, 'refuses': 1070, 'brethe': 1071, 'propelry': 1072, 'suggest': 1073, 'medicines': 1074, 'drowsiness': 1075, 'feelinf': 1076, 'equilibrium': 1077, 'wobbly': 1078, 'extremities': 1079, 'phlegmy': 1080, 'backache': 1081, 'suffers': 1082, 'leg': 1083, 'still': 1084, 'periodic': 1085, 'fits': 1086, 'troubles': 1087, 'disorientation': 1088, 'worries': 1089, 'inside': 1090, 'could': 1091, 'lacking': 1092, 'insane': 1093, 'crazy': 1094, 'show': 1095, 'resist': 1096, 'substantial': 1097, 'nostrils': 1098, 'impression': 1099, 'clogging': 1100, 'bigger': 1101, 'gunky': 1102, 'killing': 1103, 'incessantly': 1104, '\\xa0i': 1105, 'flowing': 1106, 'warming': 1107, 'boiling': 1108, 'fully': 1109, 'way': 1110, 'blocking': 1111, 'goo': 1112, 'junk': 1113, 'far': 1114, 'quit': 1115, 'freezing': 1116, 'inundated': 1117, 'develope': 1118, 'affected': 1119, 'shivers': 1120, 'dots': 1121, 'experince': 1122, 'behing': 1123, 'can’t': 1124, 'basic': 1125, 'paining': 1126, 'moderate': 1127, 'touching': 1128, 'nauseaus': 1129, 'accomapanied': 1130, 'despite': 1131, 'warm': 1132, 'environment': 1133, 'exhasuted': 1134, 'carry': 1135, 'eyeballs': 1136, 'us': 1137, 'sporadically': 1138, 'buttock': 1139, '\\xa0my': 1140, 'turn': 1141, 'my\\xa0skin': 1142, 'mimic': 1143, 'erupts': 1144, 'coloration': 1145, 'look\\xa0': 1146, 'like\\xa0nodules': 1147, '\\xa0': 1148, 'blotches': 1149, 'acting': 1150, 'deviate': 1151, 'terms': 1152, \"weren't\": 1153, 'before': 1154, 'bothersome': 1155, 'differ': 1156, 'complexion': 1157, 'popping': 1158, 'expanding': 1159, 'looking': 1160, 'rough': 1161, 'irritates': 1162, 'discoloured': 1163, 'epidermis': 1164, 'darkened': 1165, 'eruptions': 1166, 'accompanying': 1167, 'recent': 1168, 'bouts': 1169, 'appearing': 1170, 'fainting': 1171, 'workout': 1172, 'went': 1173, 'conference': 1174, 'topic': 1175, 'presence': 1176, 'shakiness': 1177, 'attention': 1178, 'span': 1179, 'coordination': 1180, 'already': 1181, 'suppose': 1182, 'encountering': 1183, 'skills': 1184, 'home': 1185, 'road': 1186, 'headachey': 1187, 'meeting': 1188, 'discussion': 1189, 'band': 1190, 'drop': 1191, 'gone': 1192, 'temples': 1193, 'narrow': 1194, 'zone': 1195, 'instantly': 1196, 'working': 1197, 'emit': 1198, 'consists': 1199, 'surrounded': 1200, 'elevated': 1201, 'sort': 1202, 'increasingly': 1203, 'treat': 1204, 'leaks': 1205, 'disease': 1206, 'discharges': 1207, 'crusted': 1208, 'leak': 1209, 'coloured': 1210, 'liquid': 1211, 'faster': 1212, 'weep': 1213, 'clear': 1214, 'each': 1215, 'you': 1216, 'troubling': 1217, 'current': 1218, 'eye': 1219, 'fighting': 1220, 'tense': 1221, 'disturbing': 1222, 'disruption': 1223, 'digesting': 1224, 'recurrent': 1225, 'disturbances': 1226, 'enduring': 1227, 'saturated': 1228, 'darkish': 1229, 'dirty': 1230, 'race': 1231, 'bringing': 1232, 'respiratory': 1233, 'laboured': 1234, 'tint': 1235, 'poorly': 1236, 'expecting': 1237, 'lousy': 1238, 'enough': 1239, 'tremendously': 1240, 'frantically': 1241, 'dented': 1242, 'powder': 1243, 'palm': 1244, 'elbow': 1245, 'knee': 1246, 'discomforting': 1247, 'humidity': 1248, 'months': 1249, 'moisturized': 1250, 'back\\xa0are': 1251, \"rash's\": 1252, 'genitals': 1253, 'composed': 1254, 'scratched': 1255, 'torso': 1256, 'less': 1257, 'coating': 1258, 'fissures': 1259, 'thickened': 1260, 'deep': 1261, 'alarming': 1262, 'spread': 1263, 'extended': 1264, 'worst': 1265, 'stinging': 1266, 'cracked': 1267, 'layer': 1268, 'readily': 1269, 'rubbed': 1270, 'intestines': 1271, 'unhappy': 1272, 'seriously': 1273, 'terrifying': 1274, \"couldn't\": 1275, 'affect': 1276, 'stabbing': 1277, 'reason': 1278, 'diarrhoea': 1279, 'smelly': 1280, 'happened': 1281, 'similar': 1282, 'stream': 1283, 'durations': 1284, 'nowadays': 1285, 'minutes': 1286, 'clothing': 1287, 'soon': 1288, 'bruising': 1289, 'below': 1290, 'give': 1291, \"they're\": 1292, 'runs': 1293, 'tingle': 1294, 'short': 1295, 'edema': 1296, 'runnny': 1297, 'tickles': 1298, 'affects': 1299, 'heat': 1300, 'puff': 1301, 'inconvinience': 1302, 'expand': 1303, 'swells': 1304, 'hace': 1305, 'breething': 1306, 'uncontrollably': 1307, 'heated': 1308, 'damp': 1309, 'croak': 1310, 'sluggish': 1311, 'reduced': 1312, 'stops': 1313, 'drinking': 1314, 'speeding': 1315, 'outside': 1316, 'urinary': 1317, 'tract': 1318, 'weaker': 1319, 'issue': 1320, 'although': 1321, 'activity': 1322, 'flushing': 1323, 'hand': 1324, 'folds': 1325, 'drowsy': 1326, 'diminished': 1327, 'quick': 1328, 'heartbeat': 1329, 'dont': 1330, 'problem': 1331, 'creases': 1332, 'murky': 1333, 'complete': 1334, 'straightforward': 1335, 'thirst': 1336, 'recovering': 1337, 'hearbeat': 1338, 'palipatations': 1339, 'light': 1340, 'headed': 1341, 'acute': 1342, 'fragile': 1343, 'intake': 1344, 'frequency': 1345, 'muddled': 1346, 'shedding': 1347, 'difference': 1348, 'again': 1349, 'swing': 1350, \"hair's\": 1351, 'susceptible': 1352, 'illnesses': 1353, 'stay': 1354, 'focused': 1355, 'agitation': 1356, 'menstrual': 1357, 'agitated': 1358, 'sclap': 1359, 'temper': 1360, 'fall': 1361, 'experinenced': 1362, 'creates': 1363, 'markings': 1364, 'appetites': 1365, 'unbearable': 1366, 'scent': 1367, 'leaving': 1368, 'commonly': 1369, 'results': 1370, 'desire': 1371, 'dropped': 1372, 'fragrance': 1373, 'starts': 1374, 'quiver': 1375, 'clearing': 1376, 'memory': 1377, 'straight': 1378, 'fuzzy': 1379, 'confusion': 1380, 'stress': 1381, 'tension': 1382, 'backing': 1383, 'bit': 1384, 'aburning': 1385, 'nauseos': 1386, 'difficultly': 1387, 'radiates': 1388, 'routinely': 1389, 'nothing': 1390, 'scorching': 1391, 'inadvertently': 1392, 'episodes': 1393, 'diarrhoeic': 1394, 'flavour': 1395, 'pressed': 1396, 'reclining': 1397, 'unintentionally': 1398, 'ease': 1399, 'persistant': 1400, 'gnawing': 1401, 'spasms': 1402, 'resulted': 1403, 'thiis': 1404, 'anemia': 1405, 'general': 1406, 'remain': 1407, \"they've\": 1408, 'diarrhoeal': 1409, 'unintended': 1410, 'relieved': 1411, 'tastes': 1412, 'consume': 1413, 'ferocious': 1414, 'spasm': 1415, 'ongoing': 1416, 'fierce': 1417, 'following': 1418, 'ofetn': 1419, 'between': 1420, 'unknowingly': 1421, 'contains': 1422, 'recline': 1423, 'particular': 1424, 'persitent': 1425, 'temperatues': 1426, 'spirits': 1427, 'kidney': 1428, 'unreasonable': 1429, 'explode': 1430, 'consistently': 1431, 'needs': 1432, 'uncontrolled': 1433, 'unbearably': 1434, 'stench': 1435, 'ought': 1436, 'virtually': 1437, 'nearly': 1438, 'storng': 1439, 'strted': 1440, 'showing': 1441, 'intolerable': 1442, 'buring': 1443, 'peeing': 1444, 'coincides': 1445, \"body's\": 1446, 'fluctuating': 1447, 'seldom': 1448, 'cue': 1449, 'either': 1450, 'awake': 1451, 'unfathomable': 1452, 'fluctuations': 1453, 'impulses': 1454, 'exploding': 1455, 'appearance': 1456, 'materialised': 1457, 'odours': 1458, 'irrational': 1459, 'rare': 1460, 'occasions': 1461, 'dreadful': 1462, 'increases': 1463, 'prevents': 1464, 'hell': 1465, 'scarcely': 1466, 'strike': 1467, 'warning': 1468, 'coludy': 1469, 'sometime': 1470, 'practically': 1471, 'involuntary': 1472, 'drops': 1473, 'overwhelming': 1474}\n",
            "1474\n"
          ]
        }
      ]
    },
    {
      "cell_type": "code",
      "source": [
        "# Notar que nuestro conjunto de prueba no tiene stop words y esta tokenizada con pad\n",
        "train_sequences = tokenize_and_pad(remove_stopwords(train_texts), tokenizer)\n",
        "train_labels = train_labels.reshape(-1, 1)\n",
        "\n",
        "val_sequences = tokenize_and_pad(remove_stopwords(val_texts), tokenizer)\n",
        "val_labels = val_labels.reshape(-1, 1)\n",
        "\n",
        "print('train_sequences shape: ', train_sequences.shape)\n",
        "print('train_labels shape: ', train_labels.shape)\n",
        "print('val_sequences shape: ', val_sequences.shape)\n",
        "print('val_labels shape: ', val_labels.shape)"
      ],
      "metadata": {
        "colab": {
          "base_uri": "https://localhost:8080/"
        },
        "id": "11WFbEiJn5DQ",
        "outputId": "6034b92c-b1d6-4e7d-c0e0-bff19fd24cd1"
      },
      "execution_count": 16,
      "outputs": [
        {
          "output_type": "stream",
          "name": "stdout",
          "text": [
            "train_sequences shape:  (960, 50)\n",
            "train_labels shape:  (960, 1)\n",
            "val_sequences shape:  (240, 50)\n",
            "val_labels shape:  (240, 1)\n"
          ]
        }
      ]
    },
    {
      "cell_type": "code",
      "source": [
        "def plot_graphs(history, metric):\n",
        "    fig, ax = plt.subplots(figsize=(5, 3))\n",
        "    ax.plot(history.history[metric])\n",
        "    ax.plot(history.history['val_'+metric])\n",
        "    plt.xlabel(\"Epochs\")\n",
        "    plt.ylabel(metric)\n",
        "    plt.legend([metric, 'val_'+metric])\n",
        "    plt.title(metric)\n",
        "    plt.show()"
      ],
      "metadata": {
        "id": "KrSZpcGGqnzm"
      },
      "execution_count": 17,
      "outputs": []
    },
    {
      "cell_type": "markdown",
      "source": [
        "## Modelos"
      ],
      "metadata": {
        "id": "TO5P1eQXoT1E"
      }
    },
    {
      "cell_type": "markdown",
      "source": [
        "![texto del vínculo](https://miro.medium.com/v2/resize:fit:720/format:webp/1*LfH52lSd1mq-UrWuejzO8g.png)"
      ],
      "metadata": {
        "id": "a3wkNLA3qBeE"
      }
    },
    {
      "cell_type": "code",
      "source": [
        "from keras.callbacks import LearningRateScheduler, ReduceLROnPlateau, EarlyStopping, ModelCheckpoint\n",
        "def get_callbacks():\n",
        "    reduce_lr = ReduceLROnPlateau(monitor='val_loss', factor=0.1, patience=3, verbose=1)\n",
        "    early_stop = EarlyStopping(monitor='val_loss', patience=5, verbose=1, restore_best_weights=True)\n",
        "    return [reduce_lr, early_stop]"
      ],
      "metadata": {
        "id": "3lxxhXT8rZa9"
      },
      "execution_count": 18,
      "outputs": []
    },
    {
      "cell_type": "code",
      "source": [
        "max_length = len(train_sequences[0]) # 50\n",
        "\n",
        "# Construcción del modelo con capa GRU\n",
        "model_GRU = tf.keras.Sequential([\n",
        "    tf.keras.Input(shape=(max_length,)),  # Especifica la forma de entrada\n",
        "    tf.keras.layers.Embedding(input_dim=3000, output_dim=256),\n",
        "    tf.keras.layers.GRU(64, go_backwards=True),\n",
        "    tf.keras.layers.Dense(32, activation='relu'),\n",
        "    tf.keras.layers.Dense(24, activation='softmax')  # Para clasificación multiclase\n",
        "])\n",
        "\n",
        "# Mostrar la arquitectura del modelo\n",
        "model_GRU.summary()\n",
        "\n",
        "# Compilación del modelo\n",
        "model_GRU.compile(\n",
        "    loss='sparse_categorical_crossentropy',\n",
        "    optimizer='adam',\n",
        "    metrics=['accuracy']\n",
        ")"
      ],
      "metadata": {
        "colab": {
          "base_uri": "https://localhost:8080/",
          "height": 267
        },
        "id": "wCPE-YUZoStK",
        "outputId": "80f398f5-d94f-4ca2-bb8d-e27585d2f72f"
      },
      "execution_count": 19,
      "outputs": [
        {
          "output_type": "display_data",
          "data": {
            "text/plain": [
              "\u001b[1mModel: \"sequential\"\u001b[0m\n"
            ],
            "text/html": [
              "<pre style=\"white-space:pre;overflow-x:auto;line-height:normal;font-family:Menlo,'DejaVu Sans Mono',consolas,'Courier New',monospace\"><span style=\"font-weight: bold\">Model: \"sequential\"</span>\n",
              "</pre>\n"
            ]
          },
          "metadata": {}
        },
        {
          "output_type": "display_data",
          "data": {
            "text/plain": [
              "┏━━━━━━━━━━━━━━━━━━━━━━━━━━━━━━━━━┳━━━━━━━━━━━━━━━━━━━━━━━━┳━━━━━━━━━━━━━━━┓\n",
              "┃\u001b[1m \u001b[0m\u001b[1mLayer (type)                   \u001b[0m\u001b[1m \u001b[0m┃\u001b[1m \u001b[0m\u001b[1mOutput Shape          \u001b[0m\u001b[1m \u001b[0m┃\u001b[1m \u001b[0m\u001b[1m      Param #\u001b[0m\u001b[1m \u001b[0m┃\n",
              "┡━━━━━━━━━━━━━━━━━━━━━━━━━━━━━━━━━╇━━━━━━━━━━━━━━━━━━━━━━━━╇━━━━━━━━━━━━━━━┩\n",
              "│ embedding (\u001b[38;5;33mEmbedding\u001b[0m)           │ (\u001b[38;5;45mNone\u001b[0m, \u001b[38;5;34m50\u001b[0m, \u001b[38;5;34m256\u001b[0m)        │       \u001b[38;5;34m768,000\u001b[0m │\n",
              "├─────────────────────────────────┼────────────────────────┼───────────────┤\n",
              "│ gru (\u001b[38;5;33mGRU\u001b[0m)                       │ (\u001b[38;5;45mNone\u001b[0m, \u001b[38;5;34m64\u001b[0m)             │        \u001b[38;5;34m61,824\u001b[0m │\n",
              "├─────────────────────────────────┼────────────────────────┼───────────────┤\n",
              "│ dense (\u001b[38;5;33mDense\u001b[0m)                   │ (\u001b[38;5;45mNone\u001b[0m, \u001b[38;5;34m32\u001b[0m)             │         \u001b[38;5;34m2,080\u001b[0m │\n",
              "├─────────────────────────────────┼────────────────────────┼───────────────┤\n",
              "│ dense_1 (\u001b[38;5;33mDense\u001b[0m)                 │ (\u001b[38;5;45mNone\u001b[0m, \u001b[38;5;34m24\u001b[0m)             │           \u001b[38;5;34m792\u001b[0m │\n",
              "└─────────────────────────────────┴────────────────────────┴───────────────┘\n"
            ],
            "text/html": [
              "<pre style=\"white-space:pre;overflow-x:auto;line-height:normal;font-family:Menlo,'DejaVu Sans Mono',consolas,'Courier New',monospace\">┏━━━━━━━━━━━━━━━━━━━━━━━━━━━━━━━━━┳━━━━━━━━━━━━━━━━━━━━━━━━┳━━━━━━━━━━━━━━━┓\n",
              "┃<span style=\"font-weight: bold\"> Layer (type)                    </span>┃<span style=\"font-weight: bold\"> Output Shape           </span>┃<span style=\"font-weight: bold\">       Param # </span>┃\n",
              "┡━━━━━━━━━━━━━━━━━━━━━━━━━━━━━━━━━╇━━━━━━━━━━━━━━━━━━━━━━━━╇━━━━━━━━━━━━━━━┩\n",
              "│ embedding (<span style=\"color: #0087ff; text-decoration-color: #0087ff\">Embedding</span>)           │ (<span style=\"color: #00d7ff; text-decoration-color: #00d7ff\">None</span>, <span style=\"color: #00af00; text-decoration-color: #00af00\">50</span>, <span style=\"color: #00af00; text-decoration-color: #00af00\">256</span>)        │       <span style=\"color: #00af00; text-decoration-color: #00af00\">768,000</span> │\n",
              "├─────────────────────────────────┼────────────────────────┼───────────────┤\n",
              "│ gru (<span style=\"color: #0087ff; text-decoration-color: #0087ff\">GRU</span>)                       │ (<span style=\"color: #00d7ff; text-decoration-color: #00d7ff\">None</span>, <span style=\"color: #00af00; text-decoration-color: #00af00\">64</span>)             │        <span style=\"color: #00af00; text-decoration-color: #00af00\">61,824</span> │\n",
              "├─────────────────────────────────┼────────────────────────┼───────────────┤\n",
              "│ dense (<span style=\"color: #0087ff; text-decoration-color: #0087ff\">Dense</span>)                   │ (<span style=\"color: #00d7ff; text-decoration-color: #00d7ff\">None</span>, <span style=\"color: #00af00; text-decoration-color: #00af00\">32</span>)             │         <span style=\"color: #00af00; text-decoration-color: #00af00\">2,080</span> │\n",
              "├─────────────────────────────────┼────────────────────────┼───────────────┤\n",
              "│ dense_1 (<span style=\"color: #0087ff; text-decoration-color: #0087ff\">Dense</span>)                 │ (<span style=\"color: #00d7ff; text-decoration-color: #00d7ff\">None</span>, <span style=\"color: #00af00; text-decoration-color: #00af00\">24</span>)             │           <span style=\"color: #00af00; text-decoration-color: #00af00\">792</span> │\n",
              "└─────────────────────────────────┴────────────────────────┴───────────────┘\n",
              "</pre>\n"
            ]
          },
          "metadata": {}
        },
        {
          "output_type": "display_data",
          "data": {
            "text/plain": [
              "\u001b[1m Total params: \u001b[0m\u001b[38;5;34m832,696\u001b[0m (3.18 MB)\n"
            ],
            "text/html": [
              "<pre style=\"white-space:pre;overflow-x:auto;line-height:normal;font-family:Menlo,'DejaVu Sans Mono',consolas,'Courier New',monospace\"><span style=\"font-weight: bold\"> Total params: </span><span style=\"color: #00af00; text-decoration-color: #00af00\">832,696</span> (3.18 MB)\n",
              "</pre>\n"
            ]
          },
          "metadata": {}
        },
        {
          "output_type": "display_data",
          "data": {
            "text/plain": [
              "\u001b[1m Trainable params: \u001b[0m\u001b[38;5;34m832,696\u001b[0m (3.18 MB)\n"
            ],
            "text/html": [
              "<pre style=\"white-space:pre;overflow-x:auto;line-height:normal;font-family:Menlo,'DejaVu Sans Mono',consolas,'Courier New',monospace\"><span style=\"font-weight: bold\"> Trainable params: </span><span style=\"color: #00af00; text-decoration-color: #00af00\">832,696</span> (3.18 MB)\n",
              "</pre>\n"
            ]
          },
          "metadata": {}
        },
        {
          "output_type": "display_data",
          "data": {
            "text/plain": [
              "\u001b[1m Non-trainable params: \u001b[0m\u001b[38;5;34m0\u001b[0m (0.00 B)\n"
            ],
            "text/html": [
              "<pre style=\"white-space:pre;overflow-x:auto;line-height:normal;font-family:Menlo,'DejaVu Sans Mono',consolas,'Courier New',monospace\"><span style=\"font-weight: bold\"> Non-trainable params: </span><span style=\"color: #00af00; text-decoration-color: #00af00\">0</span> (0.00 B)\n",
              "</pre>\n"
            ]
          },
          "metadata": {}
        }
      ]
    },
    {
      "cell_type": "code",
      "source": [
        "history = model_GRU.fit(train_sequences, train_labels, epochs=30, validation_data=(val_sequences, val_labels), callbacks=get_callbacks())"
      ],
      "metadata": {
        "colab": {
          "base_uri": "https://localhost:8080/"
        },
        "id": "xayW7wAhqXeS",
        "outputId": "346ac748-21b0-42b1-928a-0632f7276a42"
      },
      "execution_count": 20,
      "outputs": [
        {
          "output_type": "stream",
          "name": "stdout",
          "text": [
            "Epoch 1/30\n",
            "\u001b[1m30/30\u001b[0m \u001b[32m━━━━━━━━━━━━━━━━━━━━\u001b[0m\u001b[37m\u001b[0m \u001b[1m4s\u001b[0m 23ms/step - accuracy: 0.1444 - loss: 3.1584 - val_accuracy: 0.3708 - val_loss: 3.0399 - learning_rate: 0.0010\n",
            "Epoch 2/30\n",
            "\u001b[1m30/30\u001b[0m \u001b[32m━━━━━━━━━━━━━━━━━━━━\u001b[0m\u001b[37m\u001b[0m \u001b[1m0s\u001b[0m 9ms/step - accuracy: 0.3563 - loss: 2.8754 - val_accuracy: 0.2458 - val_loss: 2.3338 - learning_rate: 0.0010\n",
            "Epoch 3/30\n",
            "\u001b[1m30/30\u001b[0m \u001b[32m━━━━━━━━━━━━━━━━━━━━\u001b[0m\u001b[37m\u001b[0m \u001b[1m0s\u001b[0m 9ms/step - accuracy: 0.4689 - loss: 1.9363 - val_accuracy: 0.6500 - val_loss: 1.4274 - learning_rate: 0.0010\n",
            "Epoch 4/30\n",
            "\u001b[1m30/30\u001b[0m \u001b[32m━━━━━━━━━━━━━━━━━━━━\u001b[0m\u001b[37m\u001b[0m \u001b[1m0s\u001b[0m 9ms/step - accuracy: 0.8394 - loss: 0.9933 - val_accuracy: 0.8000 - val_loss: 0.9435 - learning_rate: 0.0010\n",
            "Epoch 5/30\n",
            "\u001b[1m30/30\u001b[0m \u001b[32m━━━━━━━━━━━━━━━━━━━━\u001b[0m\u001b[37m\u001b[0m \u001b[1m0s\u001b[0m 9ms/step - accuracy: 0.9576 - loss: 0.4808 - val_accuracy: 0.8333 - val_loss: 0.7214 - learning_rate: 0.0010\n",
            "Epoch 6/30\n",
            "\u001b[1m30/30\u001b[0m \u001b[32m━━━━━━━━━━━━━━━━━━━━\u001b[0m\u001b[37m\u001b[0m \u001b[1m0s\u001b[0m 8ms/step - accuracy: 0.9854 - loss: 0.2325 - val_accuracy: 0.8333 - val_loss: 0.6542 - learning_rate: 0.0010\n",
            "Epoch 7/30\n",
            "\u001b[1m30/30\u001b[0m \u001b[32m━━━━━━━━━━━━━━━━━━━━\u001b[0m\u001b[37m\u001b[0m \u001b[1m0s\u001b[0m 9ms/step - accuracy: 0.9959 - loss: 0.1383 - val_accuracy: 0.8458 - val_loss: 0.6216 - learning_rate: 0.0010\n",
            "Epoch 8/30\n",
            "\u001b[1m30/30\u001b[0m \u001b[32m━━━━━━━━━━━━━━━━━━━━\u001b[0m\u001b[37m\u001b[0m \u001b[1m0s\u001b[0m 8ms/step - accuracy: 0.9993 - loss: 0.0901 - val_accuracy: 0.8250 - val_loss: 0.6454 - learning_rate: 0.0010\n",
            "Epoch 9/30\n",
            "\u001b[1m30/30\u001b[0m \u001b[32m━━━━━━━━━━━━━━━━━━━━\u001b[0m\u001b[37m\u001b[0m \u001b[1m0s\u001b[0m 8ms/step - accuracy: 0.9984 - loss: 0.0577 - val_accuracy: 0.8292 - val_loss: 0.6384 - learning_rate: 0.0010\n",
            "Epoch 10/30\n",
            "\u001b[1m21/30\u001b[0m \u001b[32m━━━━━━━━━━━━━━\u001b[0m\u001b[37m━━━━━━\u001b[0m \u001b[1m0s\u001b[0m 5ms/step - accuracy: 0.9996 - loss: 0.0387\n",
            "Epoch 10: ReduceLROnPlateau reducing learning rate to 0.00010000000474974513.\n",
            "\u001b[1m30/30\u001b[0m \u001b[32m━━━━━━━━━━━━━━━━━━━━\u001b[0m\u001b[37m\u001b[0m \u001b[1m0s\u001b[0m 8ms/step - accuracy: 0.9993 - loss: 0.0392 - val_accuracy: 0.8208 - val_loss: 0.6559 - learning_rate: 0.0010\n",
            "Epoch 11/30\n",
            "\u001b[1m30/30\u001b[0m \u001b[32m━━━━━━━━━━━━━━━━━━━━\u001b[0m\u001b[37m\u001b[0m \u001b[1m0s\u001b[0m 8ms/step - accuracy: 0.9982 - loss: 0.0336 - val_accuracy: 0.8208 - val_loss: 0.6538 - learning_rate: 1.0000e-04\n",
            "Epoch 12/30\n",
            "\u001b[1m30/30\u001b[0m \u001b[32m━━━━━━━━━━━━━━━━━━━━\u001b[0m\u001b[37m\u001b[0m \u001b[1m0s\u001b[0m 11ms/step - accuracy: 1.0000 - loss: 0.0326 - val_accuracy: 0.8250 - val_loss: 0.6555 - learning_rate: 1.0000e-04\n",
            "Epoch 12: early stopping\n",
            "Restoring model weights from the end of the best epoch: 7.\n"
          ]
        }
      ]
    },
    {
      "cell_type": "code",
      "source": [
        "plot_graphs(history, 'accuracy')\n",
        "plot_graphs(history, 'loss')"
      ],
      "metadata": {
        "colab": {
          "base_uri": "https://localhost:8080/",
          "height": 649
        },
        "id": "ad4q39IZrJ1j",
        "outputId": "9f99316f-c113-40e8-f02c-a05a38f8535d"
      },
      "execution_count": 21,
      "outputs": [
        {
          "output_type": "display_data",
          "data": {
            "text/plain": [
              "<Figure size 500x300 with 1 Axes>"
            ],
            "image/png": "[encoded data removed]"
          },
          "metadata": {}
        },
        {
          "output_type": "display_data",
          "data": {
            "text/plain": [
              "<Figure size 500x300 with 1 Axes>"
            ],
            "image/png": "[encoded data removed]"
          },
          "metadata": {}
        }
      ]
    },
    {
      "cell_type": "markdown",
      "source": [
        "## Actividad 1\n",
        "Visualice la evolución de los pesos de la predicción al añadir secuencialmente palabras como input Ej:\n",
        "\n",
        "\n",
        "\n",
        "```\n",
        "Frase : I've just developed a skin rash with several pus-filled pimples and blackheads.\n",
        "\n",
        "Input 1: I've\n",
        "Input 2: I've just\n",
        "Input 3: I've just developed\n",
        "...\n",
        "Input N: I've just developed a skin rash with several pus-filled pimples and blackheads.\n",
        "```\n",
        "\n"
      ],
      "metadata": {
        "id": "3Vd8H48x2YYH"
      }
    },
    {
      "cell_type": "markdown",
      "source": [
        "### Explicación detallada"
      ],
      "metadata": {
        "id": "4pONHTN7LiSI"
      }
    },
    {
      "cell_type": "code",
      "source": [
        "# Como funciona la funcion remove stop words y tokenizar con pad\n",
        "# Ejemplo de prueba: Frase 100 del dataset\n",
        "frase_100 = dat[\"text\"][100]\n",
        "\n",
        "# Printeamos la frase\n",
        "print(frase_100) # Hay que notar que la frase es una oracion completa, donde todo es una cadena\n",
        "\n",
        "# Tratemos quitar las stops words de esta frase, con la misma funcion de arriba\n",
        "frase_100_sin_stop_words_incorrecta = remove_stopwords(frase_100)\n",
        "print(frase_100_sin_stop_words_incorrecta[0:10])"
      ],
      "metadata": {
        "colab": {
          "base_uri": "https://localhost:8080/"
        },
        "id": "OiQiUYC1CgFY",
        "outputId": "521b97e8-f041-4280-ce5c-db17a7351e37"
      },
      "execution_count": 23,
      "outputs": [
        {
          "output_type": "stream",
          "name": "stdout",
          "text": [
            "I have constipation and belly pain, and it's been really uncomfortable. The belly pain has been getting worse and is starting to affect my daily life. Moreover, I get chills every night, followed by a mild fever.\n",
            "[[], [], ['h'], [], ['v'], ['e'], [], ['c'], [], ['n']]\n"
          ]
        }
      ]
    },
    {
      "cell_type": "markdown",
      "source": [
        "Hay que notar que el ultimo resultado fue separado por letras, lo cual no es deseable para este caso dado que entrenamos el modelo por palabras (volver a ver sección tokenizacion). Esta separación sucede específicamente en la línea de código \"words = [re.split(r'[ ,.]+', text) for text in texts]\" de la función remove_stopwords, en donde esta función está esperando que se ingrese la oración en formato de lista, por ello veamos cómo es la correcta implementación."
      ],
      "metadata": {
        "id": "EEdoeAnSEFAL"
      }
    },
    {
      "cell_type": "code",
      "source": [
        "frase_100_lista = [frase_100] # Convertimos a lista\n",
        "# LLamamos la funcion remove_stopwords\n",
        "frase_100_sin_stop_words_correcta = remove_stopwords(frase_100_lista)\n",
        "print(frase_100_sin_stop_words_correcta[0])"
      ],
      "metadata": {
        "colab": {
          "base_uri": "https://localhost:8080/"
        },
        "id": "PwI3WnG8JX3B",
        "outputId": "8fd32b2a-457d-4e12-86c5-7722dd084997"
      },
      "execution_count": 24,
      "outputs": [
        {
          "output_type": "stream",
          "name": "stdout",
          "text": [
            "['constipation', 'belly', 'pain', 'really', 'uncomfortable', 'belly', 'pain', 'getting', 'worse', 'starting', 'affect', 'daily', 'life', 'moreover', 'get', 'chills', 'every', 'night', 'followed', 'mild', 'fever']\n"
          ]
        }
      ]
    },
    {
      "cell_type": "markdown",
      "source": [
        "Teniendo la frase lista sin stop words, podemos pasar a tokenizar. El código de arriba es estándar, en donde se debe llamar el tokenizador y el largo que uno desea convertir los vectores de entrada."
      ],
      "metadata": {
        "id": "KDWSIPgtJlic"
      }
    },
    {
      "cell_type": "code",
      "source": [
        "# Se inicializa el tokenizador\n",
        "tokenizer = Tokenizer(oov_token=\"<OOV>\")\n",
        "# El tokenizador se ajusta con el vocabulario (palabras diferentes), del conjunto de entrenamiento\n",
        "tokenizer.fit_on_texts(train_texts)\n",
        "\n",
        "# Esto convierte la lista con palabras, en lista con numeros, siendo cada numero el token asociado\n",
        "sequences = tokenizer.texts_to_sequences(frase_100_sin_stop_words_correcta)\n",
        "print(sequences)\n",
        "\n",
        "# Esto convierte la lista anterior, en una lista de tamaño especifico, siendo 50 el tamaño escogido para este problema\n",
        "padded_sequences = pad_sequences(sequences, maxlen=50, padding='post')[0]\n",
        "print(padded_sequences)\n",
        "print(f'El largo del vector con pad es: {len(padded_sequences)}')"
      ],
      "metadata": {
        "colab": {
          "base_uri": "https://localhost:8080/"
        },
        "id": "w2UwdaTXJyBT",
        "outputId": "88ced94f-1b8b-4b77-ae2c-4296ac654458"
      },
      "execution_count": 25,
      "outputs": [
        {
          "output_type": "stream",
          "name": "stdout",
          "text": [
            "[[190, 320, 20, 19, 76, 320, 20, 135, 137, 217, 1276, 437, 524, 383, 37, 61, 224, 121, 676, 180, 25]]\n",
            "[ 190  320   20   19   76  320   20  135  137  217 1276  437  524  383\n",
            "   37   61  224  121  676  180   25    0    0    0    0    0    0    0\n",
            "    0    0    0    0    0    0    0    0    0    0    0    0    0    0\n",
            "    0    0    0    0    0    0    0    0]\n",
            "El largo del vector con pad es: 50\n"
          ]
        }
      ]
    },
    {
      "cell_type": "markdown",
      "source": [
        "Con todo esto la actividad se resume a ver cómo podemos alterar la cantidad de palabras de la lista de entrada del modelo, en donde existen múltiples métodos desde cambiar el vector con pad, hasta alterar la lista sin stop words."
      ],
      "metadata": {
        "id": "rBMsJVJdKh7C"
      }
    },
    {
      "cell_type": "code",
      "source": [
        "# Alterar lista pad -> Ejemplo hasta la tercera frase\n",
        "print(padded_sequences[0:3])\n",
        "\n",
        "# Alterar oracion inicial -> Ejemplo hasta la tercera frase\n",
        "print(frase_100_sin_stop_words_correcta[0][0:3])"
      ],
      "metadata": {
        "colab": {
          "base_uri": "https://localhost:8080/"
        },
        "id": "fM6KEtOkLDbf",
        "outputId": "923da2a0-af79-4351-d9c3-510bc7d47547"
      },
      "execution_count": 26,
      "outputs": [
        {
          "output_type": "stream",
          "name": "stdout",
          "text": [
            "[190 320  20]\n",
            "['constipation', 'belly', 'pain']\n"
          ]
        }
      ]
    },
    {
      "cell_type": "markdown",
      "source": [
        "Ahora referente a cómo utilizar esto para obtener las predicciones, se puede realizar lo siguiente:"
      ],
      "metadata": {
        "id": "3JuyPbqpLlk-"
      }
    },
    {
      "cell_type": "code",
      "source": [
        "# Frase de prueba con 3 palabras\n",
        "frase_100 = dat[\"text\"][100]\n",
        "frase_100_lista = [frase_100] # Convertimos a lista\n",
        "\n",
        "# Frase sin stop words\n",
        "frase_100_sin_stop_words_correcta = remove_stopwords(frase_100_lista)[0]\n",
        "\n",
        "# Frase recortada\n",
        "frase_100_recortada = frase_100_sin_stop_words_correcta[0:3]\n",
        "print(frase_100_recortada)\n",
        "\n",
        "# Tokenizacion\n",
        "sequences_ejemplo = tokenizer.texts_to_sequences([frase_100_recortada])\n",
        "\n",
        "# Pad a tamaño 50\n",
        "padded_sequences = pad_sequences(sequences_ejemplo, maxlen=50, padding='post')[0]\n",
        "\n",
        "# Input del modelo\n",
        "input = np.expand_dims(padded_sequences, axis=0) # Notar que el vector input, debe tener dos dimensiones <batch, data> [si batch = None lo toma como 1]\n",
        "\n",
        "# Prediccion del modelo\n",
        "pred = model_GRU.predict(input)\n",
        "print(pred)"
      ],
      "metadata": {
        "colab": {
          "base_uri": "https://localhost:8080/"
        },
        "id": "PML3mF_HL11l",
        "outputId": "5e6b09c1-bb0f-4659-c786-5a377ef945c1"
      },
      "execution_count": 29,
      "outputs": [
        {
          "output_type": "stream",
          "name": "stdout",
          "text": [
            "['constipation', 'belly', 'pain']\n",
            "\u001b[1m1/1\u001b[0m \u001b[32m━━━━━━━━━━━━━━━━━━━━\u001b[0m\u001b[37m\u001b[0m \u001b[1m0s\u001b[0m 29ms/step\n",
            "[[6.0268134e-02 1.6691242e-03 9.3983477e-03 9.1132923e-04 6.6313483e-03\n",
            "  2.9645259e-03 6.5212920e-03 1.5033244e-01 3.9253896e-03 1.9553693e-02\n",
            "  9.2583592e-04 7.7586336e-04 6.4808908e-03 3.1358519e-04 1.1651565e-02\n",
            "  6.1180945e-03 1.8901865e-01 4.8080936e-01 1.5887256e-03 1.6259823e-03\n",
            "  2.7928750e-03 1.3067161e-02 1.5112452e-02 7.5432123e-03]]\n"
          ]
        }
      ]
    },
    {
      "cell_type": "markdown",
      "source": [
        "Esta salida es compleja de entender, pero corresponde al mapeo de probabilidades de cada clase, en donde cada número corresponde a la probabilidad de que la clase de dicho índice sea la clasificación (índice 0 corresponde a la clase 0). Ahora, esta probabilidad no necesariamente es la correcta, en donde este resultado corresponde únicamente a la predicción de nuestro modelo. Para obtener la clasificación final tomamos la probabilidad mayor:"
      ],
      "metadata": {
        "id": "WNtgmtIsOM6S"
      }
    },
    {
      "cell_type": "code",
      "source": [
        "# Retorna valor mayor del vector entregado\n",
        "Prediccion_indice = np.argmax(pred)\n",
        "print(f'Indice prediccion: {Prediccion_indice}')\n",
        "\n",
        "# Nombre de la etiqueta asociada al indice\n",
        "label_encoder.inverse_transform([np.argmax(pred).tolist()])\n",
        "print(f'La prediccion es: {label_encoder.inverse_transform([np.argmax(pred).tolist()])}')\n",
        "\n",
        "# La etiqueta real era\n",
        "print(f'La etiqueta real era: {dat[\"label\"][100]}')"
      ],
      "metadata": {
        "colab": {
          "base_uri": "https://localhost:8080/"
        },
        "id": "MGinZ3n_PMMg",
        "outputId": "95bdfb9f-b25d-4d47-8e83-22cf1ff53d00"
      },
      "execution_count": 31,
      "outputs": [
        {
          "output_type": "stream",
          "name": "stdout",
          "text": [
            "Indice prediccion: 17\n",
            "La prediccion es: ['Varicose Veins']\n",
            "La etiqueta real era: Typhoid\n"
          ]
        }
      ]
    },
    {
      "cell_type": "markdown",
      "source": [
        "Como vemos, nuestro modelo predijo mal con únicamente tres palabras, veamos como clasifica con todas las palabras de la oración 10."
      ],
      "metadata": {
        "id": "Gn74d_doPsxq"
      }
    },
    {
      "cell_type": "code",
      "source": [
        "# Frase completa\n",
        "print(frase_100_sin_stop_words_correcta)\n",
        "\n",
        "# Tokenizacion\n",
        "sequences_ejemplo = tokenizer.texts_to_sequences([frase_100_sin_stop_words_correcta])\n",
        "\n",
        "# Pad a tamaño 50\n",
        "padded_sequences = pad_sequences(sequences_ejemplo, maxlen=50, padding='post')[0]\n",
        "\n",
        "# Input del modelo\n",
        "input = np.expand_dims(padded_sequences, axis=0) # Notar que el vector input, debe tener dos dimensiones <batch, data> [si batch = None lo toma como 1]\n",
        "\n",
        "# Prediccion del modelo\n",
        "pred = model_GRU.predict(input)\n",
        "\n",
        "# Retorna valor mayor del vector entregado\n",
        "Prediccion_indice = np.argmax(pred)\n",
        "print(f'Indice prediccion: {Prediccion_indice}')\n",
        "\n",
        "# Nombre de la etiqueta asociada al indice\n",
        "label_encoder.inverse_transform([np.argmax(pred).tolist()])\n",
        "print(f'La prediccion es: {label_encoder.inverse_transform([np.argmax(pred).tolist()])}')\n",
        "\n",
        "# La etiqueta real era\n",
        "print(f'La etiqueta real era: {dat[\"label\"][100]}')"
      ],
      "metadata": {
        "colab": {
          "base_uri": "https://localhost:8080/"
        },
        "id": "EgwLPmk-Pz4s",
        "outputId": "bf36f7cc-ff0d-4563-b428-e50b9ed5c813"
      },
      "execution_count": 33,
      "outputs": [
        {
          "output_type": "stream",
          "name": "stdout",
          "text": [
            "['constipation', 'belly', 'pain', 'really', 'uncomfortable', 'belly', 'pain', 'getting', 'worse', 'starting', 'affect', 'daily', 'life', 'moreover', 'get', 'chills', 'every', 'night', 'followed', 'mild', 'fever']\n",
            "\u001b[1m1/1\u001b[0m \u001b[32m━━━━━━━━━━━━━━━━━━━━\u001b[0m\u001b[37m\u001b[0m \u001b[1m0s\u001b[0m 184ms/step\n",
            "Indice prediccion: 16\n",
            "La prediccion es: ['Typhoid']\n",
            "La etiqueta real era: Typhoid\n"
          ]
        }
      ]
    },
    {
      "cell_type": "markdown",
      "source": [
        "Ahora el resultado si es el correcto."
      ],
      "metadata": {
        "id": "fq5pQMJbJrMl"
      }
    },
    {
      "cell_type": "markdown",
      "source": [
        "### Pauta actividad: 1"
      ],
      "metadata": {
        "id": "9JE3Wzt-JzD0"
      }
    },
    {
      "cell_type": "code",
      "source": [
        "#Hint la función de remove_stopwords acepta un arreglo con arreglos \"#0000FF\"\n",
        "\n",
        "from IPython.display import clear_output\n",
        "import matplotlib.pyplot as plt\n",
        "from numpy.random import randn\n",
        "from time import sleep\n",
        "import pandas as pd\n",
        "\n",
        "num = 69\n",
        "\n",
        "frase = dat[\"text\"][num].split(\" \")\n",
        "in_frase = \"\"\n",
        "color = \"#0000FF\"\n",
        "colors = [color] * 24\n",
        "colors[dat['label_encoded'][num]] = \"#FF0000\"\n",
        "\n",
        "for palabra in frase:\n",
        "  in_frase = in_frase + \" \" + palabra\n",
        "  input = tokenize_and_pad(remove_stopwords([in_frase]), tokenizer)\n",
        "  pred = model_GRU.predict(input)\n",
        "  sleep(2)\n",
        "  clear_output(wait=True)\n",
        "  plt.scatter(range(24),pred[0],color=colors)\n",
        "  plt.plot(pred[0])\n",
        "  plt.ylim([0,1])\n",
        "  plt.show()\n",
        "  print(in_frase)\n",
        "\n",
        "print()\n",
        "print(f\"True Label : {dat['label'][num]} = {dat['label_encoded'][num]}\")"
      ],
      "metadata": {
        "colab": {
          "base_uri": "https://localhost:8080/",
          "height": 490
        },
        "id": "cV_K_NH_5KAV",
        "outputId": "6f037eb4-6ea4-426d-f7e7-1e30c8d06236"
      },
      "execution_count": 34,
      "outputs": [
        {
          "output_type": "display_data",
          "data": {
            "text/plain": [
              "<Figure size 640x480 with 1 Axes>"
            ],
            "image/png": "[encoded data removed]"
          },
          "metadata": {}
        },
        {
          "output_type": "stream",
          "name": "stdout",
          "text": [
            " The skin around the veins on my legs is dry and flaky. It seems there is a major bruise and my legs have started to swell.\n",
            "\n",
            "True Label : Varicose Veins = 17\n"
          ]
        }
      ]
    },
    {
      "cell_type": "markdown",
      "source": [
        "Este grafico muestra la evolución de la probabilidad del índice 17, siendo dicho índice la clase correcta. Como se aprecia, en medida que aumentamos el número de palabras disminuye la probabilidad del resto y aumenta esta respectivamente, demostrando la confianza que tiene el modelo para predecir correctamente con un numero grande de palabras."
      ],
      "metadata": {
        "id": "goiAlH7OKYDN"
      }
    },
    {
      "cell_type": "markdown",
      "source": [
        "### Ejemplo frase custom"
      ],
      "metadata": {
        "id": "e7QidkOfJ3n8"
      }
    },
    {
      "cell_type": "code",
      "source": [
        "# Creamos una frase que contenga palabras del vocabulario\n",
        "frase_custom = \"Pain Pain Pain Pain Pain Pain Pain Pain Pain Pain Pain Pain Pain Pain\"\n",
        "\n",
        "# Tokenizamos y quitamos las stop words\n",
        "input = tokenize_and_pad(remove_stopwords([frase_custom]), tokenizer)\n",
        "\n",
        "# Realizamos la prediccion\n",
        "pred = model_GRU.predict(input)\n",
        "\n",
        "# Obtenemos la clasificacion\n",
        "clase = np.argmax(pred)\n",
        "\n",
        "# Retornamos el indice como nombre de la clase\n",
        "print(f'La prediccion es: {label_encoder.inverse_transform([np.argmax(pred).tolist()])}')"
      ],
      "metadata": {
        "colab": {
          "base_uri": "https://localhost:8080/"
        },
        "id": "XznDwAefLso2",
        "outputId": "928ac5e6-69f1-4c7a-d281-8bd9f212b469"
      },
      "execution_count": 37,
      "outputs": [
        {
          "output_type": "stream",
          "name": "stdout",
          "text": [
            "\u001b[1m1/1\u001b[0m \u001b[32m━━━━━━━━━━━━━━━━━━━━\u001b[0m\u001b[37m\u001b[0m \u001b[1m0s\u001b[0m 30ms/step\n",
            "La prediccion es: ['Typhoid']\n"
          ]
        }
      ]
    },
    {
      "cell_type": "markdown",
      "source": [
        "Ejemplo para detallar la prueba de oraciones nuevas. Si el vocabulario de la tokenizacion es extenso, se puede cubrir un horizonte grande de posibilidades de oraciones nuevas."
      ],
      "metadata": {
        "id": "PwMqrelDKqkV"
      }
    },
    {
      "cell_type": "markdown",
      "source": [
        "## Actividad 2\n",
        "Entrene un nuevo modelo cambiando la capa GRU por una capa LTSM y compare los resultados\n",
        "![texto del vínculo](https://miro.medium.com/v2/resize:fit:720/format:webp/1*7cMfenu76BZCzdKWCfBABA.png)"
      ],
      "metadata": {
        "id": "ZZBYG7H1u4OW"
      }
    },
    {
      "cell_type": "code",
      "source": [
        "# build the model with GRU layer\n",
        "model_LTSM = tf.keras.Sequential([\n",
        "    tf.keras.Input(shape=(max_length,)),  # Especifica la forma de entrada\n",
        "    tf.keras.layers.Embedding(input_dim=3000, output_dim=256),\n",
        "    tf.keras.layers.LSTM(64, go_backwards=True, dropout=0.1),\n",
        "    tf.keras.layers.Dense(32, activation='relu'),\n",
        "    tf.keras.layers.Dense(24, activation='softmax')])\n",
        "\n",
        "model_LTSM.summary()\n",
        "model_LTSM.compile(loss='sparse_categorical_crossentropy', optimizer='adam', metrics=['accuracy'])"
      ],
      "metadata": {
        "colab": {
          "base_uri": "https://localhost:8080/",
          "height": 267
        },
        "id": "4oxAu6j3u6pE",
        "outputId": "1be40ded-fd3d-4d2b-fb0a-1e09ad5ba011"
      },
      "execution_count": 38,
      "outputs": [
        {
          "output_type": "display_data",
          "data": {
            "text/plain": [
              "\u001b[1mModel: \"sequential_1\"\u001b[0m\n"
            ],
            "text/html": [
              "<pre style=\"white-space:pre;overflow-x:auto;line-height:normal;font-family:Menlo,'DejaVu Sans Mono',consolas,'Courier New',monospace\"><span style=\"font-weight: bold\">Model: \"sequential_1\"</span>\n",
              "</pre>\n"
            ]
          },
          "metadata": {}
        },
        {
          "output_type": "display_data",
          "data": {
            "text/plain": [
              "┏━━━━━━━━━━━━━━━━━━━━━━━━━━━━━━━━━┳━━━━━━━━━━━━━━━━━━━━━━━━┳━━━━━━━━━━━━━━━┓\n",
              "┃\u001b[1m \u001b[0m\u001b[1mLayer (type)                   \u001b[0m\u001b[1m \u001b[0m┃\u001b[1m \u001b[0m\u001b[1mOutput Shape          \u001b[0m\u001b[1m \u001b[0m┃\u001b[1m \u001b[0m\u001b[1m      Param #\u001b[0m\u001b[1m \u001b[0m┃\n",
              "┡━━━━━━━━━━━━━━━━━━━━━━━━━━━━━━━━━╇━━━━━━━━━━━━━━━━━━━━━━━━╇━━━━━━━━━━━━━━━┩\n",
              "│ embedding_1 (\u001b[38;5;33mEmbedding\u001b[0m)         │ (\u001b[38;5;45mNone\u001b[0m, \u001b[38;5;34m50\u001b[0m, \u001b[38;5;34m256\u001b[0m)        │       \u001b[38;5;34m768,000\u001b[0m │\n",
              "├─────────────────────────────────┼────────────────────────┼───────────────┤\n",
              "│ lstm (\u001b[38;5;33mLSTM\u001b[0m)                     │ (\u001b[38;5;45mNone\u001b[0m, \u001b[38;5;34m64\u001b[0m)             │        \u001b[38;5;34m82,176\u001b[0m │\n",
              "├─────────────────────────────────┼────────────────────────┼───────────────┤\n",
              "│ dense_2 (\u001b[38;5;33mDense\u001b[0m)                 │ (\u001b[38;5;45mNone\u001b[0m, \u001b[38;5;34m32\u001b[0m)             │         \u001b[38;5;34m2,080\u001b[0m │\n",
              "├─────────────────────────────────┼────────────────────────┼───────────────┤\n",
              "│ dense_3 (\u001b[38;5;33mDense\u001b[0m)                 │ (\u001b[38;5;45mNone\u001b[0m, \u001b[38;5;34m24\u001b[0m)             │           \u001b[38;5;34m792\u001b[0m │\n",
              "└─────────────────────────────────┴────────────────────────┴───────────────┘\n"
            ],
            "text/html": [
              "<pre style=\"white-space:pre;overflow-x:auto;line-height:normal;font-family:Menlo,'DejaVu Sans Mono',consolas,'Courier New',monospace\">┏━━━━━━━━━━━━━━━━━━━━━━━━━━━━━━━━━┳━━━━━━━━━━━━━━━━━━━━━━━━┳━━━━━━━━━━━━━━━┓\n",
              "┃<span style=\"font-weight: bold\"> Layer (type)                    </span>┃<span style=\"font-weight: bold\"> Output Shape           </span>┃<span style=\"font-weight: bold\">       Param # </span>┃\n",
              "┡━━━━━━━━━━━━━━━━━━━━━━━━━━━━━━━━━╇━━━━━━━━━━━━━━━━━━━━━━━━╇━━━━━━━━━━━━━━━┩\n",
              "│ embedding_1 (<span style=\"color: #0087ff; text-decoration-color: #0087ff\">Embedding</span>)         │ (<span style=\"color: #00d7ff; text-decoration-color: #00d7ff\">None</span>, <span style=\"color: #00af00; text-decoration-color: #00af00\">50</span>, <span style=\"color: #00af00; text-decoration-color: #00af00\">256</span>)        │       <span style=\"color: #00af00; text-decoration-color: #00af00\">768,000</span> │\n",
              "├─────────────────────────────────┼────────────────────────┼───────────────┤\n",
              "│ lstm (<span style=\"color: #0087ff; text-decoration-color: #0087ff\">LSTM</span>)                     │ (<span style=\"color: #00d7ff; text-decoration-color: #00d7ff\">None</span>, <span style=\"color: #00af00; text-decoration-color: #00af00\">64</span>)             │        <span style=\"color: #00af00; text-decoration-color: #00af00\">82,176</span> │\n",
              "├─────────────────────────────────┼────────────────────────┼───────────────┤\n",
              "│ dense_2 (<span style=\"color: #0087ff; text-decoration-color: #0087ff\">Dense</span>)                 │ (<span style=\"color: #00d7ff; text-decoration-color: #00d7ff\">None</span>, <span style=\"color: #00af00; text-decoration-color: #00af00\">32</span>)             │         <span style=\"color: #00af00; text-decoration-color: #00af00\">2,080</span> │\n",
              "├─────────────────────────────────┼────────────────────────┼───────────────┤\n",
              "│ dense_3 (<span style=\"color: #0087ff; text-decoration-color: #0087ff\">Dense</span>)                 │ (<span style=\"color: #00d7ff; text-decoration-color: #00d7ff\">None</span>, <span style=\"color: #00af00; text-decoration-color: #00af00\">24</span>)             │           <span style=\"color: #00af00; text-decoration-color: #00af00\">792</span> │\n",
              "└─────────────────────────────────┴────────────────────────┴───────────────┘\n",
              "</pre>\n"
            ]
          },
          "metadata": {}
        },
        {
          "output_type": "display_data",
          "data": {
            "text/plain": [
              "\u001b[1m Total params: \u001b[0m\u001b[38;5;34m853,048\u001b[0m (3.25 MB)\n"
            ],
            "text/html": [
              "<pre style=\"white-space:pre;overflow-x:auto;line-height:normal;font-family:Menlo,'DejaVu Sans Mono',consolas,'Courier New',monospace\"><span style=\"font-weight: bold\"> Total params: </span><span style=\"color: #00af00; text-decoration-color: #00af00\">853,048</span> (3.25 MB)\n",
              "</pre>\n"
            ]
          },
          "metadata": {}
        },
        {
          "output_type": "display_data",
          "data": {
            "text/plain": [
              "\u001b[1m Trainable params: \u001b[0m\u001b[38;5;34m853,048\u001b[0m (3.25 MB)\n"
            ],
            "text/html": [
              "<pre style=\"white-space:pre;overflow-x:auto;line-height:normal;font-family:Menlo,'DejaVu Sans Mono',consolas,'Courier New',monospace\"><span style=\"font-weight: bold\"> Trainable params: </span><span style=\"color: #00af00; text-decoration-color: #00af00\">853,048</span> (3.25 MB)\n",
              "</pre>\n"
            ]
          },
          "metadata": {}
        },
        {
          "output_type": "display_data",
          "data": {
            "text/plain": [
              "\u001b[1m Non-trainable params: \u001b[0m\u001b[38;5;34m0\u001b[0m (0.00 B)\n"
            ],
            "text/html": [
              "<pre style=\"white-space:pre;overflow-x:auto;line-height:normal;font-family:Menlo,'DejaVu Sans Mono',consolas,'Courier New',monospace\"><span style=\"font-weight: bold\"> Non-trainable params: </span><span style=\"color: #00af00; text-decoration-color: #00af00\">0</span> (0.00 B)\n",
              "</pre>\n"
            ]
          },
          "metadata": {}
        }
      ]
    },
    {
      "cell_type": "code",
      "source": [
        "history = model_LTSM.fit(train_sequences, train_labels, epochs=30, validation_data=(val_sequences, val_labels), callbacks=get_callbacks())"
      ],
      "metadata": {
        "colab": {
          "base_uri": "https://localhost:8080/"
        },
        "id": "Rr7r5Ht6vZiG",
        "outputId": "9419b2f2-6b57-4c43-f203-cddb940f968a"
      },
      "execution_count": 39,
      "outputs": [
        {
          "output_type": "stream",
          "name": "stdout",
          "text": [
            "Epoch 1/30\n",
            "\u001b[1m30/30\u001b[0m \u001b[32m━━━━━━━━━━━━━━━━━━━━\u001b[0m\u001b[37m\u001b[0m \u001b[1m3s\u001b[0m 23ms/step - accuracy: 0.1079 - loss: 3.1556 - val_accuracy: 0.2083 - val_loss: 2.9764 - learning_rate: 0.0010\n",
            "Epoch 2/30\n",
            "\u001b[1m30/30\u001b[0m \u001b[32m━━━━━━━━━━━━━━━━━━━━\u001b[0m\u001b[37m\u001b[0m \u001b[1m0s\u001b[0m 10ms/step - accuracy: 0.2265 - loss: 2.7433 - val_accuracy: 0.4500 - val_loss: 1.9929 - learning_rate: 0.0010\n",
            "Epoch 3/30\n",
            "\u001b[1m30/30\u001b[0m \u001b[32m━━━━━━━━━━━━━━━━━━━━\u001b[0m\u001b[37m\u001b[0m \u001b[1m0s\u001b[0m 9ms/step - accuracy: 0.6898 - loss: 1.5171 - val_accuracy: 0.7667 - val_loss: 1.0195 - learning_rate: 0.0010\n",
            "Epoch 4/30\n",
            "\u001b[1m30/30\u001b[0m \u001b[32m━━━━━━━━━━━━━━━━━━━━\u001b[0m\u001b[37m\u001b[0m \u001b[1m0s\u001b[0m 12ms/step - accuracy: 0.9236 - loss: 0.6203 - val_accuracy: 0.8708 - val_loss: 0.5742 - learning_rate: 0.0010\n",
            "Epoch 5/30\n",
            "\u001b[1m30/30\u001b[0m \u001b[32m━━━━━━━━━━━━━━━━━━━━\u001b[0m\u001b[37m\u001b[0m \u001b[1m0s\u001b[0m 12ms/step - accuracy: 0.9818 - loss: 0.2335 - val_accuracy: 0.9000 - val_loss: 0.4088 - learning_rate: 0.0010\n",
            "Epoch 6/30\n",
            "\u001b[1m30/30\u001b[0m \u001b[32m━━━━━━━━━━━━━━━━━━━━\u001b[0m\u001b[37m\u001b[0m \u001b[1m0s\u001b[0m 12ms/step - accuracy: 0.9968 - loss: 0.0986 - val_accuracy: 0.9000 - val_loss: 0.3597 - learning_rate: 0.0010\n",
            "Epoch 7/30\n",
            "\u001b[1m30/30\u001b[0m \u001b[32m━━━━━━━━━━━━━━━━━━━━\u001b[0m\u001b[37m\u001b[0m \u001b[1m1s\u001b[0m 13ms/step - accuracy: 0.9987 - loss: 0.0542 - val_accuracy: 0.8958 - val_loss: 0.3589 - learning_rate: 0.0010\n",
            "Epoch 8/30\n",
            "\u001b[1m30/30\u001b[0m \u001b[32m━━━━━━━━━━━━━━━━━━━━\u001b[0m\u001b[37m\u001b[0m \u001b[1m1s\u001b[0m 10ms/step - accuracy: 0.9987 - loss: 0.0384 - val_accuracy: 0.9250 - val_loss: 0.3160 - learning_rate: 0.0010\n",
            "Epoch 9/30\n",
            "\u001b[1m30/30\u001b[0m \u001b[32m━━━━━━━━━━━━━━━━━━━━\u001b[0m\u001b[37m\u001b[0m \u001b[1m0s\u001b[0m 9ms/step - accuracy: 0.9993 - loss: 0.0250 - val_accuracy: 0.9167 - val_loss: 0.3180 - learning_rate: 0.0010\n",
            "Epoch 10/30\n",
            "\u001b[1m30/30\u001b[0m \u001b[32m━━━━━━━━━━━━━━━━━━━━\u001b[0m\u001b[37m\u001b[0m \u001b[1m0s\u001b[0m 9ms/step - accuracy: 0.9993 - loss: 0.0196 - val_accuracy: 0.9083 - val_loss: 0.3384 - learning_rate: 0.0010\n",
            "Epoch 11/30\n",
            "\u001b[1m27/30\u001b[0m \u001b[32m━━━━━━━━━━━━━━━━━━\u001b[0m\u001b[37m━━\u001b[0m \u001b[1m0s\u001b[0m 6ms/step - accuracy: 1.0000 - loss: 0.0143\n",
            "Epoch 11: ReduceLROnPlateau reducing learning rate to 0.00010000000474974513.\n",
            "\u001b[1m30/30\u001b[0m \u001b[32m━━━━━━━━━━━━━━━━━━━━\u001b[0m\u001b[37m\u001b[0m \u001b[1m0s\u001b[0m 9ms/step - accuracy: 1.0000 - loss: 0.0144 - val_accuracy: 0.9167 - val_loss: 0.3373 - learning_rate: 0.0010\n",
            "Epoch 12/30\n",
            "\u001b[1m30/30\u001b[0m \u001b[32m━━━━━━━━━━━━━━━━━━━━\u001b[0m\u001b[37m\u001b[0m \u001b[1m0s\u001b[0m 8ms/step - accuracy: 1.0000 - loss: 0.0150 - val_accuracy: 0.9292 - val_loss: 0.3070 - learning_rate: 1.0000e-04\n",
            "Epoch 13/30\n",
            "\u001b[1m30/30\u001b[0m \u001b[32m━━━━━━━━━━━━━━━━━━━━\u001b[0m\u001b[37m\u001b[0m \u001b[1m0s\u001b[0m 8ms/step - accuracy: 1.0000 - loss: 0.0131 - val_accuracy: 0.9208 - val_loss: 0.3302 - learning_rate: 1.0000e-04\n",
            "Epoch 14/30\n",
            "\u001b[1m30/30\u001b[0m \u001b[32m━━━━━━━━━━━━━━━━━━━━\u001b[0m\u001b[37m\u001b[0m \u001b[1m0s\u001b[0m 8ms/step - accuracy: 1.0000 - loss: 0.0134 - val_accuracy: 0.9083 - val_loss: 0.3293 - learning_rate: 1.0000e-04\n",
            "Epoch 15/30\n",
            "\u001b[1m29/30\u001b[0m \u001b[32m━━━━━━━━━━━━━━━━━━━\u001b[0m\u001b[37m━\u001b[0m \u001b[1m0s\u001b[0m 6ms/step - accuracy: 0.9997 - loss: 0.0119\n",
            "Epoch 15: ReduceLROnPlateau reducing learning rate to 1.0000000474974514e-05.\n",
            "\u001b[1m30/30\u001b[0m \u001b[32m━━━━━━━━━━━━━━━━━━━━\u001b[0m\u001b[37m\u001b[0m \u001b[1m0s\u001b[0m 9ms/step - accuracy: 0.9997 - loss: 0.0119 - val_accuracy: 0.9125 - val_loss: 0.3253 - learning_rate: 1.0000e-04\n",
            "Epoch 16/30\n",
            "\u001b[1m30/30\u001b[0m \u001b[32m━━━━━━━━━━━━━━━━━━━━\u001b[0m\u001b[37m\u001b[0m \u001b[1m0s\u001b[0m 8ms/step - accuracy: 1.0000 - loss: 0.0119 - val_accuracy: 0.9250 - val_loss: 0.3102 - learning_rate: 1.0000e-05\n",
            "Epoch 17/30\n",
            "\u001b[1m30/30\u001b[0m \u001b[32m━━━━━━━━━━━━━━━━━━━━\u001b[0m\u001b[37m\u001b[0m \u001b[1m0s\u001b[0m 9ms/step - accuracy: 1.0000 - loss: 0.0116 - val_accuracy: 0.9167 - val_loss: 0.3166 - learning_rate: 1.0000e-05\n",
            "Epoch 17: early stopping\n",
            "Restoring model weights from the end of the best epoch: 12.\n"
          ]
        }
      ]
    },
    {
      "cell_type": "code",
      "source": [
        "plot_graphs(history, 'accuracy')\n",
        "plot_graphs(history, 'loss')"
      ],
      "metadata": {
        "colab": {
          "base_uri": "https://localhost:8080/",
          "height": 649
        },
        "id": "WlGqVGfavuRj",
        "outputId": "50efd97d-3af1-40b3-9b4c-b94e7005f0e3"
      },
      "execution_count": 40,
      "outputs": [
        {
          "output_type": "display_data",
          "data": {
            "text/plain": [
              "<Figure size 500x300 with 1 Axes>"
            ],
            "image/png": "[encoded data removed]"
          },
          "metadata": {}
        },
        {
          "output_type": "display_data",
          "data": {
            "text/plain": [
              "<Figure size 500x300 with 1 Axes>"
            ],
            "image/png": "[encoded data removed]"
          },
          "metadata": {}
        }
      ]
    },
    {
      "cell_type": "markdown",
      "source": [
        "Notar que este modelo alcanza valores mayores de accuracy, siendo superiores a 0.8."
      ],
      "metadata": {
        "id": "4hs51TXOLEJm"
      }
    }
  ]
}